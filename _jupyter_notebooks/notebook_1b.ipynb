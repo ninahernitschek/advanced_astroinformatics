{
 "cells": [
  {
   "cell_type": "markdown",
   "metadata": {
    "slideshow": {
     "slide_type": "slide"
    }
   },
   "source": [
    "# Plotting TESS light curves\n",
    "\n",
    "**Advanced Astroinformatics Student Project**\n",
    "\n",
    "*N. Hernitschek, 2022*\n",
    "\n"
   ]
  },
  {
   "cell_type": "markdown",
   "metadata": {},
   "source": [
    "---\n",
    "## Contents\n",
    "* [Loading light curves](#first-bullet)\n",
    "* [Plotting light curves](#second-bullet)\n",
    "* [Plotting light curves in bulk](#third-bullet)\n",
    "* [Summary](#fourth-bullet)\n"
   ]
  },
  {
   "cell_type": "markdown",
   "metadata": {},
   "source": [
    "## 1. Loading Light Curves <a class=\"anchor\" id=\"second-bullet\"></a>\n",
    "\n",
    "The github repository contains a file `data.zip` (check on the right side of the repository website, `Releases`). Download it and extract it. It should expand to about 600 MB.\n",
    "\n",
    "You will find the following subfolders:\n",
    "\n",
    "`_TESS_lightcurves_raw`\n",
    "\n",
    "`_TESS_lightcurves_median_after_detrended` \n",
    "\n",
    "`_TESS_lightcurves_outliercleaned`\n",
    "\n",
    "\n",
    "and a file `info_tess_data.txt`.\n"
   ]
  },
  {
   "cell_type": "markdown",
   "metadata": {},
   "source": [
    "Please open the file `info_tess_data.txt` and a light curve file from any of the folders to familiarize yourself with the data."
   ]
  },
  {
   "cell_type": "markdown",
   "metadata": {},
   "source": [
    "## 2. Plotting Light Curves <a class=\"anchor\" id=\"second-bullet\"></a>\n",
    "\n",
    "The next step is to make plots of those light curves.\n",
    "\n",
    "We begin with just one light curve.\n"
   ]
  },
  {
   "cell_type": "markdown",
   "metadata": {},
   "source": [
    "First, load the light curve:"
   ]
  },
  {
   "cell_type": "code",
   "execution_count": 7,
   "metadata": {},
   "outputs": [],
   "source": [
    "\n",
    "\n",
    "import numpy as np\n",
    "from concurrent.futures import as_completed\n",
    "\n",
    "import math\n",
    "import glob\n",
    "import sys\n",
    "import os\n",
    "\n",
    "import matplotlib\n",
    "matplotlib.use('PDF')\n",
    "import matplotlib.pyplot as plt \n",
    "\n",
    "import matplotlib.style\n",
    "import matplotlib as mpl\n",
    "mpl.style.use('classic')\n",
    "\n",
    "\n",
    "import pandas as pd\n",
    "\n",
    "\n",
    "data_in = pd.read_csv(\"41259805_sector01_4_2_cleaned.lc\",\n",
    "names = ['time', 'mag', 'magerr'])"
   ]
  },
  {
   "cell_type": "markdown",
   "metadata": {},
   "source": [
    "other ways to read in data: `numpy.loadtxt`\n",
    "\n",
    "We chose here `pandas` as it will enable us to do a few things more when reading in tables (you will see this later on)."
   ]
  },
  {
   "cell_type": "code",
   "execution_count": 8,
   "metadata": {},
   "outputs": [
    {
     "name": "stdout",
     "output_type": "stream",
     "text": [
      "             time        mag    magerr\n",
      "0     1325.365967  13.222690  0.004788\n",
      "1     1325.386719  13.223169  0.004790\n",
      "2     1325.407593  13.224006  0.004793\n",
      "3     1325.428467  13.224393  0.004793\n",
      "4     1325.449219  13.225105  0.004798\n",
      "...           ...        ...       ...\n",
      "1223  1353.032349  13.231553  0.004831\n",
      "1224  1353.053101  13.232067  0.004829\n",
      "1225  1353.073975  13.233518  0.004842\n",
      "1226  1353.094849  13.234316  0.004840\n",
      "1227  1353.115601  13.235259  0.004841\n",
      "\n",
      "[1228 rows x 3 columns]\n"
     ]
    }
   ],
   "source": [
    "print(data_in)"
   ]
  },
  {
   "cell_type": "markdown",
   "metadata": {},
   "source": [
    "We now plot this light curve using `matplotlib`."
   ]
  },
  {
   "cell_type": "markdown",
   "metadata": {},
   "source": [
    "**Try to figure it out on your own first!**\n"
   ]
  },
  {
   "cell_type": "markdown",
   "metadata": {},
   "source": [
    "## 3. Plotting Light Curves in Bulk <a class=\"anchor\" id=\"third-bullet\"></a>\n",
    "\n",
    "\n",
    "The light curves are organized in folders corresponding to the\n",
    "VARIABLE STAR TYPE DESIGNATIONS IN VSX:\n",
    "\n",
    "https://www.aavso.org/vsx/index.php?view=about.vartypes\n"
   ]
  },
  {
   "cell_type": "markdown",
   "metadata": {},
   "source": [
    "Modify the plotting code so it plots:\n",
    "    a) all light curves in a given folder\n",
    "    b) all light curves in all folders.\n",
    "    \n",
    "Hints:\n",
    "- save the light curves as `*.pdf` files\n",
    "- give them meaningful file names\n",
    "- after plotting a few files successfully, you will encounter an error message. Why does this happen?"
   ]
  },
  {
   "cell_type": "code",
   "execution_count": null,
   "metadata": {},
   "outputs": [],
   "source": []
  },
  {
   "cell_type": "markdown",
   "metadata": {},
   "source": [
    "**Your tasks until next week:**"
   ]
  },
  {
   "cell_type": "markdown",
   "metadata": {},
   "source": [
    "Modify the plotting code to plot three panels for each light curve: raw, median after CBV, outlier cleaned.\n",
    "\n",
    "If you have more time, look up variable star types on the VSX website."
   ]
  },
  {
   "cell_type": "code",
   "execution_count": null,
   "metadata": {},
   "outputs": [],
   "source": []
  },
  {
   "cell_type": "markdown",
   "metadata": {
    "slideshow": {
     "slide_type": "slide"
    }
   },
   "source": [
    "## Summary <a class=\"anchor\" id=\"fourth-bullet\"></a>\n",
    "\n",
    "At this point, all of you should have:\n",
    "* seen how to open tables (i.e.: light curves) in Python\n",
    "* plotted light curves in Python using `matplotlib`\n",
    "* removed `NaN` values from light curves."
   ]
  },
  {
   "cell_type": "code",
   "execution_count": null,
   "metadata": {},
   "outputs": [],
   "source": []
  }
 ],
 "metadata": {
  "anaconda-cloud": {},
  "kernelspec": {
   "display_name": "Python 3",
   "language": "python",
   "name": "python3"
  },
  "language_info": {
   "codemirror_mode": {
    "name": "ipython",
    "version": 3
   },
   "file_extension": ".py",
   "mimetype": "text/x-python",
   "name": "python",
   "nbconvert_exporter": "python",
   "pygments_lexer": "ipython3",
   "version": "3.8.10"
  }
 },
 "nbformat": 4,
 "nbformat_minor": 1
}
