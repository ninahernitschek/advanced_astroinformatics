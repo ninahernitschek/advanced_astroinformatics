{
 "cells": [
  {
   "cell_type": "markdown",
   "metadata": {
    "slideshow": {
     "slide_type": "slide"
    }
   },
   "source": [
    "# Optimizing Source Code\n",
    "\n",
    "**Advanced Astroinformatics Student Project**\n",
    "\n",
    "*N. Hernitschek, 2022*\n",
    "\n",
    "\n",
    "\n",
    "---\n",
    "## Contents\n",
    "* [Recap, Questions](#first-bullet)\n",
    "* [Machine Learning - best practice](#second-bullet)\n",
    "* [Optimizing Source Code](#third-bullet)\n",
    "* [Storing and reusing data structures - serializing with `pickle`](#fourth-bullet)\n",
    "* [Storing and reusing function calls - memoization](#fifth-bullet)\n",
    "* [Parallelization](#sixth-bullet)\n",
    "* [Summary](#seventh-bullet)\n"
   ]
  },
  {
   "cell_type": "markdown",
   "metadata": {},
   "source": [
    "## 1. Recap, Questions <a class=\"anchor\" id=\"first-bullet\"></a>\n",
    "\n",
    "Time for questions!\n",
    "\n",
    "Your **tasks until this week** were:\n",
    "\n",
    "Use a multiclass supervised machine learning algorithm on the three TESS feature data sets, including making diagnostic plots and the classification scores.\n",
    "\n",
    "Try to interpret your results.\n",
    "How do your results differ from the a) _TESS_lightcurves_outliercleaned, b) _TESS_lightcurves_median_after_detrended, c) _TESS_lightcurves_raw?\n",
    "\n",
    "\n",
    "To which extent could a machine-learning pipeline be helpful?\n"
   ]
  },
  {
   "cell_type": "markdown",
   "metadata": {},
   "source": [
    "## 2. Machine Learning - best practice <a class=\"anchor\" id=\"second-bullet\"></a>\n",
    "\n",
    "\n",
    "* whatever you code - document your code well!\n",
    "\n",
    "* the training set must have the same data quality as the target set: this can be achieved by either cross-matching your sample with a catalog with existing very accurate classification, generating mock data from theoretical models\n",
    "\n",
    "* always use verification: 10-fold verification\n",
    "\n",
    "* make diagnostic plots: triangle plots (for features, clustering), confusion matrix, efficiency-completeness plots\n",
    "\n",
    "* improve your classification gradually\n",
    "\n",
    "* think about building a classification pipeline (especially if some features only make sense for a small subset of the data, e.g. periods of light curves)\n",
    "\n",
    "* after training your model, pickle it\n",
    "\n",
    "* run the classification in parallel, either using `multiprocessing` or start your code multiple times (multiple jobs); for this, the pickled model should be used for all processes\n",
    "\n"
   ]
  },
  {
   "cell_type": "markdown",
   "metadata": {},
   "source": [
    "### 2.1 Imbalanced Data Sets\n",
    "\n",
    "Our TESS data sets are **imbalanced*:"
   ]
  },
  {
   "cell_type": "code",
   "execution_count": 13,
   "metadata": {},
   "outputs": [
    {
     "name": "stdout",
     "output_type": "stream",
     "text": [
      "type occurrances\n",
      "EW         1092\n",
      "SR          992\n",
      "ROT         790\n",
      "EA          447\n",
      "RRAB        443\n",
      "L           236\n",
      "RRC         203\n",
      "EC          124\n",
      "EB          121\n",
      "DCEP         77\n",
      "DSCT         71\n",
      "RRAB_BL      55\n",
      "ED           54\n",
      "HADS         31\n",
      "RRD          23\n",
      "CEP          22\n",
      "ACV          21\n",
      "RS           18\n",
      "DCEP-FU      10\n",
      "E             8\n",
      "RR            6\n",
      "DCEPS         6\n",
      "Name: type, dtype: int64\n"
     ]
    }
   ],
   "source": [
    "import pandas as pd\n",
    "\n",
    "star_types = pd.read_csv('test_featuretable.csv',names = ['type'],usecols = [1],skiprows=1) \n",
    "\n",
    "#print(star_types)\n",
    "\n",
    "print('type occurrances')\n",
    "    \n",
    "print(star_types['type'].value_counts())\n"
   ]
  },
  {
   "cell_type": "markdown",
   "metadata": {},
   "source": [
    "You might have noticed that when using 10-fold verification to measure the classifier's performance, you sometimes run into problems as bootstrap samples miss certain types.\n",
    "\n",
    "In the following, we see how we can overcome this problem.\n"
   ]
  },
  {
   "cell_type": "markdown",
   "metadata": {},
   "source": [
    "The technique used is called **stratified k-fold cross-validation**. This will preserve the distribution of different classes (types) in the bootstrap data sets."
   ]
  },
  {
   "cell_type": "markdown",
   "metadata": {},
   "source": [
    "**Example:**\n",
    "\n",
    "First, we will use the KFold class to randomly split the dataset into 5-folds and check the composition of each train and test set. The complete example is listed below.\n",
    "\n",
    "We can see that in this case, there are some splits that have the expected 8/2 split for train and test sets, and others that are much worse, such as 6/4 (optimistic) and 10/0 (pessimistic).\n",
    "\n",
    "Evaluating a model on these splits of the data would not give a reliable estimate of performance:\n",
    "This would not give the classifier enough examples to learn from, the test set often misses out a certain class, and so both the performance would be poor and the estimate of the performance would be unreliable.\n",
    "\n",
    "\n"
   ]
  },
  {
   "cell_type": "code",
   "execution_count": 18,
   "metadata": {},
   "outputs": [
    {
     "name": "stdout",
     "output_type": "stream",
     "text": [
      "Train: 0=791, 1=9, Test: 0=199, 1=1\n",
      "Train: 0=793, 1=7, Test: 0=197, 1=3\n",
      "Train: 0=794, 1=6, Test: 0=196, 1=4\n",
      "Train: 0=790, 1=10, Test: 0=200, 1=0\n",
      "Train: 0=792, 1=8, Test: 0=198, 1=2\n"
     ]
    }
   ],
   "source": [
    "# example of k-fold cross-validation with an imbalanced dataset\n",
    "from sklearn.datasets import make_classification\n",
    "from sklearn.model_selection import KFold\n",
    "\n",
    "# generate 2 class dataset\n",
    "X, y = make_classification(n_samples=1000, n_classes=2, weights=[0.99, 0.01], flip_y=0, random_state=1)\n",
    "kfold = KFold(n_splits=5, shuffle=True, random_state=1)\n",
    "\n",
    "# enumerate the splits and summarize the distributions\n",
    "for train_ix, test_ix in kfold.split(X):\n",
    "    # select rows\n",
    "    train_X, test_X = X[train_ix], X[test_ix]\n",
    "    train_y, test_y = y[train_ix], y[test_ix]\n",
    "    # summarize train and test composition\n",
    "    train_0, train_1 = len(train_y[train_y==0]), len(train_y[train_y==1])\n",
    "    test_0, test_1 = len(test_y[test_y==0]), len(test_y[test_y==1])\n",
    "    print('Train: 0=%d, 1=%d, Test: 0=%d, 1=%d' % (train_0, train_1, test_0, test_1))"
   ]
  },
  {
   "cell_type": "markdown",
   "metadata": {},
   "source": [
    "We can split a dataset randomly, although in such a way that maintains the same class distribution in each subset. This is called **stratification or stratified sampling** and the target variable `y`, the class, is used to control the sampling process.\n",
    "\n",
    "For example, we can use a version of k-fold cross-validation that preserves the imbalanced class distribution in each fold. It is called stratified k-fold cross-validation and will enforce the class distribution in each split of the data to match the distribution in the complete training dataset.\n",
    "\n",
    "Below is the same dataset and the same example as above but now with the stratified version of cross-validation."
   ]
  },
  {
   "cell_type": "code",
   "execution_count": 16,
   "metadata": {},
   "outputs": [
    {
     "name": "stdout",
     "output_type": "stream",
     "text": [
      ">Train: 0=792, 1=8, Test: 0=198, 1=2\n",
      ">Train: 0=792, 1=8, Test: 0=198, 1=2\n",
      ">Train: 0=792, 1=8, Test: 0=198, 1=2\n",
      ">Train: 0=792, 1=8, Test: 0=198, 1=2\n",
      ">Train: 0=792, 1=8, Test: 0=198, 1=2\n"
     ]
    }
   ],
   "source": [
    "from sklearn.datasets import make_classification\n",
    "from sklearn.model_selection import StratifiedKFold\n",
    "# generate 2 class dataset\n",
    "X, y = make_classification(n_samples=1000, n_classes=2, weights=[0.99, 0.01], flip_y=0, random_state=1)\n",
    "\n",
    "#here is the difference\n",
    "kfold = StratifiedKFold(n_splits=5, shuffle=True, random_state=1)\n",
    "\n",
    "# enumerate the splits and summarize the distributions\n",
    "for train_ix, test_ix in kfold.split(X, y):\n",
    "    # select rows\n",
    "    train_X, test_X = X[train_ix], X[test_ix]\n",
    "    train_y, test_y = y[train_ix], y[test_ix]\n",
    "    # summarize train and test composition\n",
    "    train_0, train_1 = len(train_y[train_y==0]), len(train_y[train_y==1])\n",
    "    test_0, test_1 = len(test_y[test_y==0]), len(test_y[test_y==1])\n",
    "    print('Train: 0=%d, 1=%d, Test: 0=%d, 1=%d' % (train_0, train_1, test_0, test_1))"
   ]
  },
  {
   "cell_type": "markdown",
   "metadata": {},
   "source": [
    "Running the example generates the dataset as before and summarizes the class distribution for the train and test sets for each split.\n",
    "\n",
    "In this case, we can see that each split matches what we expected in the ideal case.\n",
    "\n",
    "Each of the examples in the minority class is given one opportunity to be used in a test set, and each train and test set for each split of the data has the same class distribution."
   ]
  },
  {
   "cell_type": "markdown",
   "metadata": {},
   "source": [
    "**Todo:** Apply this to your TESS classifier. You only need to exchange `KFold` for `StratifiedKFold`."
   ]
  },
  {
   "cell_type": "markdown",
   "metadata": {},
   "source": [
    "## 3. Optimizing Source Code <a class=\"anchor\" id=\"third-bullet\"></a>\n",
    "\n",
    "\n",
    "Python has the benefits of being a very portable, high-level programming language with many libraries available for especially data science, machine learning, physics and astronomy.\n",
    "\n",
    "A drawback of Python is that the execution time of Python can be a bit slow in comparison to such as C/C++.\n",
    "\n",
    "We address this in three ways:\n",
    "* monitoring code execution time\n",
    "* avoiding slow program/ data structures\n",
    "* using C++ inline code\n"
   ]
  },
  {
   "cell_type": "markdown",
   "metadata": {},
   "source": [
    "### 3.1 Monitoring code execution time\n",
    "\n",
    "It is important to monitor the execution time of your code.\n",
    "Slow execution time often is a result of using less than optimal data structures, as well as common mistakes like reading in the same file over and over again. We will address reasons for slow code execution time in detail in 2.2, but first let's take a look at how to identify slow parts in your code.\n"
   ]
  },
  {
   "cell_type": "markdown",
   "metadata": {},
   "source": [
    "There are many python modules like `time`, `timeit`, and `datetime` in Python which can store the time at which the particular section of the program is being executed. In this way, we can calculate the time it took to execute that section. \n",
    "\n",
    " \n",
    "\n",
    "The following methods can be used to compute time differences:\n",
    "\n",
    "* `time` module provides various time-related funtions. The module is included in Python’s standard utility modules. `time.time()` method of Time module is used to get the time in seconds since epoch. The handling of leap seconds is platform-dependent.\n",
    "* `datetime` library defines a function that can be primarily used to get the current time and date. The `now()` function returns the current local date and time, which is defined under `datetime` module.\n",
    "* `timeit` runs your code millions of times (default value is 1000000) so that you get the statistically most relevant measurement of code execution time.\n",
    "\n",
    "\n",
    "**Example 1: Computing the time using `time` module and `time.time()` function**"
   ]
  },
  {
   "cell_type": "code",
   "execution_count": 6,
   "metadata": {},
   "outputs": [
    {
     "name": "stdout",
     "output_type": "stream",
     "text": [
      "The time of execution of above program in seconds is : 0.06806516647338867\n"
     ]
    }
   ],
   "source": [
    "# program to compute the time\n",
    "# of execution of any python code\n",
    "import time\n",
    " \n",
    "# we initialize the variable start\n",
    "# to store the starting time of\n",
    "# execution of program\n",
    "start = time.time()\n",
    " \n",
    "# we can take any program but for\n",
    "# example we have taken the below\n",
    "# program\n",
    "a = 0\n",
    "for i in range(10000):\n",
    "    a += (i**100)\n",
    " \n",
    "# now we have initialized the variable\n",
    "# end to store the ending time after\n",
    "# execution of program\n",
    "end = time.time()\n",
    " \n",
    "# difference of start and end variables\n",
    "# gives the time of execution of the\n",
    "# program in between\n",
    "print(\"The time of execution of above program in seconds is :\", end-start)"
   ]
  },
  {
   "cell_type": "markdown",
   "metadata": {},
   "source": [
    "We have computed the time of the above program which came out of the order 10^-2. We can make a table or a plot that gives us the execution time depending on the number of iterations. This will answer us the (quite common) question whether the algorithm **scales well**."
   ]
  },
  {
   "cell_type": "code",
   "execution_count": null,
   "metadata": {},
   "outputs": [],
   "source": []
  },
  {
   "cell_type": "code",
   "execution_count": 10,
   "metadata": {},
   "outputs": [
    {
     "name": "stdout",
     "output_type": "stream",
     "text": [
      "Time for execution of program\n",
      "order t (s)\n",
      "100 0.0003886223\n",
      "200 0.0024273396\n",
      "300 0.0012047291\n",
      "400 0.0017044544\n",
      "500 0.0037145615\n",
      "600 0.005767107\n",
      "700 0.0074198246\n",
      "800 0.0088808537\n",
      "900 0.0077271461\n",
      "1000 0.0040960312\n"
     ]
    }
   ],
   "source": [
    "# program to compute the time\n",
    "# of execution of any python code\n",
    "# for different number of computations\n",
    "import time\n",
    " \n",
    "# we initialize a for loop and in each\n",
    "# iterations store the time of start\n",
    "# and end of the iterations\n",
    "\n",
    "print('Time for execution of program')\n",
    "print('order t (s)')\n",
    "for j in range(100, 1100, 100):\n",
    "    start = time.time()\n",
    " \n",
    "    # program to iterate the range of\n",
    "    # below loop increasing the value\n",
    "    # in each iterations\n",
    "    a = 0\n",
    "    for i in range(j):\n",
    "        a += (i**100)\n",
    " \n",
    "    # the end variable to store the\n",
    "    # ending time after execution of\n",
    "    # program after each iterations\n",
    "    end = time.time()\n",
    " \n",
    "    # difference of start and end variables\n",
    "    # gives the time of execution of the program\n",
    "    # in between in each iterations\n",
    "    print(   j, round(end-start, 10))"
   ]
  },
  {
   "cell_type": "markdown",
   "metadata": {},
   "source": [
    "We see a general trend in the increase in time of computation for an increase in the number of execution. However, it may not show any linear trend or fixed increments.\n",
    "\n"
   ]
  },
  {
   "cell_type": "markdown",
   "metadata": {},
   "source": [
    "**Example 2: Using `datetime` module and `datetime.now` function.**\n",
    "\n",
    "This method is useful if we want to write a log file."
   ]
  },
  {
   "cell_type": "code",
   "execution_count": 15,
   "metadata": {},
   "outputs": [
    {
     "name": "stdout",
     "output_type": "stream",
     "text": [
      "start:  2022-06-27 16:08:13.211298\n",
      "end:  2022-06-27 16:08:13.218085\n",
      "The time of execution of above program is:  00.006787\n"
     ]
    }
   ],
   "source": [
    "# program to compute the time of\n",
    "# execution of any python code\n",
    "from datetime import datetime\n",
    " \n",
    "# we initialize the variable start to\n",
    "# store the starting time of execution\n",
    "# of program\n",
    "start = datetime.now()\n",
    "print('start: ', start)\n",
    " \n",
    "# we can take any program but for\n",
    "# example we have taken the below\n",
    "# program\n",
    "a = 0\n",
    "for i in range(1000):\n",
    "    a += (i**100)\n",
    " \n",
    "# now we have initialized the variable\n",
    "# end to store the ending time after\n",
    "# execution of program\n",
    "end = datetime.now()\n",
    "\n",
    "print('end: ', end)\n",
    "\n",
    "# difference of start and end variables\n",
    "# gives the time of execution of the\n",
    "# program in between\n",
    "print(\"The time of execution of above program is: \",\n",
    "      str(end-start)[5:])"
   ]
  },
  {
   "cell_type": "markdown",
   "metadata": {},
   "source": [
    "**Example 3: Using timeit**\n",
    "\n",
    "This module provides a simple way to find the execution time of small sections of Python code. The module function `timeit.timeit(stmt, setup, timer, number)` accepts four arguments:\n",
    "\n",
    "`stmt`: the statement you want to measure; it defaults to `pass`.\n",
    "    \n",
    "`setup`: the code that you run before running the stmt; it defaults to `pass`. We generally use this to import the required modules for our code.\n",
    "    \n",
    "`timer`: a `timeit.Timer` object; it usually has a sensible default value so you don’t have to worry about it.\n",
    "    \n",
    "`number`: the number of executions you’d like to run the `stmt`."
   ]
  },
  {
   "cell_type": "code",
   "execution_count": 16,
   "metadata": {},
   "outputs": [
    {
     "name": "stdout",
     "output_type": "stream",
     "text": [
      "The time of execution of above program is : 0.0032699559815227985\n"
     ]
    }
   ],
   "source": [
    "# program to compute the time of\n",
    "# execution of any python code using timit\n",
    " \n",
    "# importing the required module\n",
    "import timeit\n",
    " \n",
    "# code snippet to be executed only once\n",
    "mysetup = \"from math import sqrt\"\n",
    " \n",
    "# code snippet whose execution time\n",
    "# is to be measured\n",
    "mycode = '''\n",
    "def example():\n",
    "    mylist = []\n",
    "    for x in range(100):\n",
    "        mylist.append(sqrt(x))\n",
    "'''\n",
    " \n",
    "# timeit statement\n",
    "print (\"The time of execution of above program is :\",\n",
    "       timeit.timeit(setup = mysetup,\n",
    "                    stmt = mycode,\n",
    "                    number = 10000))"
   ]
  },
  {
   "cell_type": "markdown",
   "metadata": {},
   "source": [
    "**Example 4: using a source-code profiler.**\n",
    "    \n",
    "The most 'technical' and advanced method on how to monitor code execution time is using a source-code profiler.    \n",
    "    \n",
    "`cProfile` and `profile` provide deterministic profiling of Python programs. A profile is a set of statistics that describes how often and for how long various parts of the program executed. These statistics can be formatted into reports via the pstats module.\n",
    "\n",
    "The Python standard library provides two different implementations of the same profiling interface:\n",
    "\n",
    "* `cProfile` is recommended for most users; it’s a C extension with reasonable overhead that makes it suitable for profiling long-running programs. Based on lsprof, contributed by Brett Rosen and Ted Czotter.\n",
    "\n",
    "* `profile`, a pure Python module whose interface is imitated by `cProfile`, but which adds significant overhead to profiled programs. If you’re trying to extend the profiler in some way, the task might be easier with this module. Originally designed and written by Jim Roskind.\n",
    "\n",
    "    \n",
    "**Important note on the usage of `profile` and `cProfile`** \n",
    "\n",
    "The profiler modules are designed to provide an execution profile for a given program, not for the purpose of creating (accurate) benchmarkings. For the latter, `timeit` is a better choice giving reasonably accurate results. \n",
    "This particularly applies to benchmarking Python code against C code: the profilers introduce overhead for Python code, but not for C-level functions, and so the C code would seem faster than any Python one.\n",
    "A profiler, however, can be used to generally spot which parts of your code take a relatively long time to execute, how often certain calls are made and whether this makes sense. This is the exact usage of a profiler.\n",
    "    \n",
    "\n",
    "More on this can be found in the documentation: https://docs.python.org/3/library/profile.html    "
   ]
  },
  {
   "cell_type": "code",
   "execution_count": 17,
   "metadata": {},
   "outputs": [
    {
     "name": "stdout",
     "output_type": "stream",
     "text": [
      "['a', 'a', 'a']\n",
      "         47 function calls in 0.002 seconds\n",
      "\n",
      "   Ordered by: standard name\n",
      "\n",
      "   ncalls  tottime  percall  cumtime  percall filename:lineno(function)\n",
      "        1    0.000    0.000    0.001    0.001 <ipython-input-17-b89c0b6999f0>:4(foo)\n",
      "        1    0.000    0.000    0.001    0.001 <string>:1(<module>)\n",
      "        3    0.000    0.000    0.001    0.000 iostream.py:195(schedule)\n",
      "        2    0.000    0.000    0.000    0.000 iostream.py:308(_is_master_process)\n",
      "        2    0.000    0.000    0.000    0.000 iostream.py:321(_schedule_flush)\n",
      "        2    0.000    0.000    0.001    0.001 iostream.py:384(write)\n",
      "        3    0.000    0.000    0.000    0.000 iostream.py:91(_event_pipe)\n",
      "        1    0.000    0.000    0.000    0.000 re.py:233(findall)\n",
      "        1    0.000    0.000    0.000    0.000 re.py:250(compile)\n",
      "        2    0.000    0.000    0.000    0.000 re.py:289(_compile)\n",
      "        3    0.001    0.000    0.001    0.000 socket.py:438(send)\n",
      "        3    0.000    0.000    0.000    0.000 threading.py:1017(_wait_for_tstate_lock)\n",
      "        3    0.000    0.000    0.000    0.000 threading.py:1071(is_alive)\n",
      "        3    0.000    0.000    0.000    0.000 threading.py:513(is_set)\n",
      "        1    0.000    0.000    0.002    0.002 {built-in method builtins.exec}\n",
      "        5    0.000    0.000    0.000    0.000 {built-in method builtins.isinstance}\n",
      "        1    0.000    0.000    0.001    0.001 {built-in method builtins.print}\n",
      "        2    0.000    0.000    0.000    0.000 {built-in method posix.getpid}\n",
      "        3    0.000    0.000    0.000    0.000 {method 'acquire' of '_thread.lock' objects}\n",
      "        3    0.000    0.000    0.000    0.000 {method 'append' of 'collections.deque' objects}\n",
      "        1    0.000    0.000    0.000    0.000 {method 'disable' of '_lsprof.Profiler' objects}\n",
      "        1    0.000    0.000    0.000    0.000 {method 'findall' of 're.Pattern' objects}\n",
      "\n",
      "\n"
     ]
    }
   ],
   "source": [
    "import re\n",
    "import cProfile\n",
    "\n",
    "def foo():\n",
    "\n",
    "    character=\"b\"\n",
    "    reps=\"2\"\n",
    "    s = \"aaaaaaaaaaaaaaaabbcddd\"\n",
    "    patternString = rf\"([^{character}])(?=\\1{{0,{reps}}}{character})\"\n",
    "    pattern = re.compile(patternString)\n",
    "    print (re.findall(pattern, s))\n",
    "\n",
    "cProfile.run('foo()')"
   ]
  },
  {
   "cell_type": "markdown",
   "metadata": {},
   "source": [
    "An example where it becomes more clear what you can spot by using a profiler:"
   ]
  },
  {
   "cell_type": "code",
   "execution_count": 72,
   "metadata": {},
   "outputs": [
    {
     "name": "stdout",
     "output_type": "stream",
     "text": [
      "41259805_sector01_4_2.lc ACV\n",
      "306893839_sector01_4_3.lc ACV\n",
      "308452159_sector01_4_3.lc ACV\n",
      "309148260_sector01_4_3.lc ACV\n",
      "327597288_sector01_2_1.lc ACV\n",
      "348898673_sector01_4_3.lc ACV\n",
      "349409844_sector01_4_3.lc ACV\n",
      "350146577_sector01_4_3.lc ACV\n",
      "355650641_sector01_2_2.lc ACV\n",
      "358467700_sector01_4_3.lc ACV\n",
      "364424408_sector01_4_2.lc ACV\n",
      "369220372_sector01_1_1.lc ACV\n",
      "382512330_sector01_4_3.lc ACV\n",
      "392761412_sector01_3_2.lc ACV\n",
      "404807716_sector01_4_2.lc ACV\n",
      "410451777_sector01_4_3.lc ACV\n",
      "441155956_sector01_1_3.lc ACV\n",
      "140687857_sector01_4_2.lc CEP\n",
      "142109122_sector01_4_2.lc CEP\n",
      "150106606_sector01_4_4.lc CEP\n",
      "150270037_sector01_4_3.lc CEP\n",
      "167167404_sector01_4_3.lc CEP\n",
      "267428681_sector01_3_2.lc CEP\n",
      "269792822_sector01_3_3.lc CEP\n",
      "271642238_sector01_4_2.lc CEP\n",
      "276861305_sector01_4_1.lc CEP\n",
      "277316247_sector01_4_1.lc CEP\n",
      "278863994_sector01_4_4.lc CEP\n",
      "293347406_sector01_4_3.lc CEP\n",
      "306470448_sector01_4_3.lc CEP\n",
      "306577678_sector01_4_3.lc CEP\n",
      "306580505_sector01_4_3.lc CEP\n",
      "309701876_sector01_4_1.lc CEP\n",
      "349413748_sector01_4_3.lc CEP\n",
      "350434368_sector01_4_4.lc CEP\n",
      "350518415_sector01_4_4.lc CEP\n",
      "364588437_sector01_4_2.lc CEP\n",
      "373767115_sector01_4_2.lc CEP\n",
      "         164714 function calls (163384 primitive calls) in 1.430 seconds\n",
      "\n",
      "   Ordered by: standard name\n",
      "\n",
      "   ncalls  tottime  percall  cumtime  percall filename:lineno(function)\n",
      "       76    0.000    0.000    0.004    0.000 <__array_function__ internals>:2(concatenate)\n",
      "      380    0.001    0.000    0.001    0.000 <frozen importlib._bootstrap>:1017(_handle_fromlist)\n",
      "        1    0.005    0.005    1.430    1.430 <ipython-input-72-fd377254d633>:12(main)\n",
      "       38    0.001    0.000    1.420    0.037 <ipython-input-72-fd377254d633>:4(get_star_type)\n",
      "        1    0.000    0.000    1.430    1.430 <string>:1(<module>)\n",
      "       38    0.000    0.000    0.000    0.000 <string>:1(__new__)\n",
      "       38    0.000    0.000    0.000    0.000 <string>:2(__init__)\n",
      "  760/684    0.000    0.000    0.004    0.000 _asarray.py:23(asarray)\n",
      "       38    0.000    0.000    0.001    0.000 _asarray.py:293(require)\n",
      "       38    0.000    0.000    0.000    0.000 _asarray.py:382(<setcomp>)\n",
      "      494    0.000    0.000    0.000    0.000 _dtype.py:24(_kind_name)\n",
      "      494    0.000    0.000    0.000    0.000 _dtype.py:307(_name_includes_bit_suffix)\n",
      "      494    0.002    0.000    0.002    0.000 _dtype.py:321(_name_get)\n",
      "       76    0.000    0.000    0.001    0.000 _methods.py:53(_any)\n",
      "       76    0.000    0.000    0.000    0.000 _ufunc_config.py:132(geterr)\n",
      "       76    0.000    0.000    0.001    0.000 _ufunc_config.py:32(seterr)\n",
      "       38    0.000    0.000    0.000    0.000 _ufunc_config.py:429(__init__)\n",
      "       38    0.000    0.000    0.001    0.000 _ufunc_config.py:433(__enter__)\n",
      "       38    0.000    0.000    0.000    0.000 _ufunc_config.py:438(__exit__)\n",
      "       38    0.000    0.000    0.000    0.000 abc.py:100(__subclasscheck__)\n",
      "     1406    0.001    0.000    0.002    0.000 abc.py:96(__instancecheck__)\n",
      "       38    0.000    0.000    0.001    0.000 algorithms.py:1570(take)\n",
      "       38    0.000    0.000    0.019    0.001 array_ops.py:194(comparison_op)\n",
      "       38    0.000    0.000    0.018    0.000 array_ops.py:40(comp_method_OBJECT_ARRAY)\n",
      "       38    0.000    0.000    0.030    0.001 arraylike.py:27(__eq__)\n",
      "      114    0.000    0.000    0.000    0.000 base.py:1232(name)\n",
      "       38    0.000    0.000    0.000    0.000 base.py:1239(name)\n",
      "       38    0.001    0.000    0.001    0.000 base.py:1764(is_unique)\n",
      "       76    0.000    0.000    0.001    0.000 base.py:1875(is_floating)\n",
      "       38    0.000    0.000    0.001    0.000 base.py:2127(inferred_type)\n",
      "       38    0.000    0.000    0.000    0.000 base.py:2134(_is_all_dates)\n",
      "  266/114    0.005    0.000    0.027    0.000 base.py:250(__new__)\n",
      "     2964    0.003    0.000    0.011    0.000 base.py:254(is_dtype)\n",
      "       76    0.000    0.000    0.002    0.000 base.py:3036(get_loc)\n",
      "       76    0.000    0.000    0.000    0.000 base.py:3304(_get_partial_string_timestamp_match_key)\n",
      "       76    0.000    0.000    0.000    0.000 base.py:381(<genexpr>)\n",
      "       76    0.000    0.000    0.000    0.000 base.py:397(ndim)\n",
      "      304    0.000    0.000    0.001    0.000 base.py:4070(_values)\n",
      "       38    0.000    0.000    0.000    0.000 base.py:4096(_get_engine_target)\n",
      "     2394    0.002    0.000    0.003    0.000 base.py:411(find)\n",
      "       76    0.000    0.000    0.000    0.000 base.py:4230(__contains__)\n",
      "      152    0.001    0.000    0.001    0.000 base.py:425(_simple_new)\n",
      "      152    0.001    0.000    0.001    0.000 base.py:4279(__getitem__)\n",
      "       76    0.001    0.000    0.005    0.000 base.py:4393(equals)\n",
      "       38    0.000    0.000    0.003    0.000 base.py:4472(identical)\n",
      "       76    0.000    0.000    0.000    0.000 base.py:4485(<genexpr>)\n",
      "       76    0.000    0.000    0.002    0.000 base.py:5287(_maybe_cast_indexer)\n",
      "       76    0.000    0.000    0.000    0.000 base.py:532(is_)\n",
      "      190    0.000    0.000    0.000    0.000 base.py:563(_reset_identity)\n",
      "       38    0.000    0.000    0.000    0.000 base.py:574(_engine)\n",
      "       38    0.000    0.000    0.000    0.000 base.py:581(<lambda>)\n",
      "      380    0.001    0.000    0.033    0.000 base.py:5836(ensure_index)\n",
      "      494    0.001    0.000    0.002    0.000 base.py:5953(maybe_extract_name)\n",
      "      114    0.000    0.000    0.001    0.000 base.py:5969(_maybe_cast_with_dtype)\n",
      "      532    0.000    0.000    0.000    0.000 base.py:600(__len__)\n",
      "      114    0.001    0.000    0.003    0.000 base.py:6023(_maybe_cast_data_without_dtype)\n",
      "      114    0.000    0.000    0.000    0.000 base.py:623(dtype)\n",
      "       38    0.000    0.000    0.002    0.000 base.py:742(take)\n",
      "       38    0.000    0.000    0.000    0.000 base.py:756(_maybe_disallow_fill)\n",
      "       38    0.000    0.000    0.000    0.000 base.py:796(__iter__)\n",
      "      266    0.001    0.000    0.004    0.000 blocks.py:127(__init__)\n",
      "       76    0.000    0.000    0.000    0.000 blocks.py:147(_maybe_coerce_values)\n",
      "      266    0.000    0.000    0.000    0.000 blocks.py:161(_check_ndim)\n",
      "      266    0.000    0.000    0.000    0.000 blocks.py:233(internal_values)\n",
      "       76    0.000    0.000    0.001    0.000 blocks.py:239(array_values)\n",
      "      190    0.000    0.000    0.000    0.000 blocks.py:2505(_maybe_coerce_values)\n",
      "      342    0.000    0.000    0.000    0.000 blocks.py:265(mgr_locs)\n",
      "      266    0.002    0.000    0.010    0.000 blocks.py:2662(get_block_type)\n",
      "      266    0.001    0.000    0.002    0.000 blocks.py:269(mgr_locs)\n",
      "      190    0.001    0.000    0.012    0.000 blocks.py:2711(make_block)\n",
      "       76    0.000    0.000    0.001    0.000 blocks.py:288(make_block_same_class)\n",
      "       38    0.000    0.000    0.000    0.000 blocks.py:343(shape)\n",
      "      304    0.000    0.000    0.000    0.000 blocks.py:347(dtype)\n",
      "       76    0.000    0.000    0.000    0.000 blocks.py:351(iget)\n",
      "      152    0.001    0.000    0.002    0.000 cast.py:1257(maybe_castable)\n",
      "       76    0.000    0.000    0.002    0.000 cast.py:1273(maybe_infer_to_datetimelike)\n",
      "      152    0.001    0.000    0.004    0.000 cast.py:1379(maybe_cast_to_datetime)\n",
      "      152    0.001    0.000    0.002    0.000 cast.py:1617(construct_1d_object_array_from_listlike)\n",
      "       76    0.000    0.000    0.000    0.000 cast.py:1642(construct_1d_ndarray_preserving_na)\n",
      "       38    0.000    0.000    0.000    0.000 codecs.py:260(__init__)\n",
      "       38    0.000    0.000    0.000    0.000 codecs.py:309(__init__)\n",
      "      608    0.002    0.000    0.031    0.000 codecs.py:319(decode)\n",
      "      608    0.001    0.000    0.001    0.000 codecs.py:331(getstate)\n",
      "       38    0.000    0.000    0.001    0.000 common.py:1071(is_numeric_v_string_like)\n",
      "       38    0.000    0.000    0.001    0.000 common.py:108(is_url)\n",
      "       76    0.000    0.000    0.000    0.000 common.py:1187(needs_i8_conversion)\n",
      "       38    0.000    0.000    0.000    0.000 common.py:1234(is_numeric_dtype)\n",
      "      114    0.000    0.000    0.000    0.000 common.py:126(_expand_user)\n",
      "       76    0.000    0.000    0.000    0.000 common.py:1276(is_string_like_dtype)\n",
      "      228    0.000    0.000    0.000    0.000 common.py:129(cast_scalar_indexer)\n",
      "       76    0.000    0.000    0.000    0.000 common.py:1304(<lambda>)\n",
      "      570    0.001    0.000    0.002    0.000 common.py:1307(is_float_dtype)\n",
      "      532    0.001    0.000    0.004    0.000 common.py:1341(is_bool_dtype)\n",
      "       38    0.000    0.000    0.000    0.000 common.py:145(validate_header_arg)\n",
      "     2356    0.003    0.000    0.007    0.000 common.py:1470(is_extension_array_dtype)\n",
      "       76    0.000    0.000    0.001    0.000 common.py:154(stringify_path)\n",
      "      342    0.000    0.000    0.003    0.000 common.py:1551(_is_dtype)\n",
      "       76    0.000    0.000    0.000    0.000 common.py:157(ensure_python_int)\n",
      "      722    0.001    0.000    0.001    0.000 common.py:1575(get_dtype)\n",
      "     2736    0.003    0.000    0.005    0.000 common.py:1610(_is_dtype_type)\n",
      "       38    0.000    0.000    0.000    0.000 common.py:170(all_none)\n",
      "       76    0.000    0.000    0.000    0.000 common.py:174(<genexpr>)\n",
      "      418    0.000    0.000    0.002    0.000 common.py:1743(validate_all_hashable)\n",
      "      836    0.000    0.000    0.001    0.000 common.py:1762(<genexpr>)\n",
      "      608    0.001    0.000    0.001    0.000 common.py:1769(pandas_dtype)\n",
      "     1672    0.001    0.000    0.001    0.000 common.py:185(classes)\n",
      "     1672    0.001    0.000    0.001    0.000 common.py:187(<lambda>)\n",
      "     1064    0.000    0.000    0.000    0.000 common.py:190(classes_and_not_datetimelike)\n",
      "     1064    0.001    0.000    0.001    0.000 common.py:195(<lambda>)\n",
      "      266    0.001    0.000    0.002    0.000 common.py:198(asarray_tuplesafe)\n",
      "       38    0.000    0.000    0.000    0.000 common.py:198(is_fsspec_url)\n",
      "      874    0.001    0.000    0.003    0.000 common.py:201(is_object_dtype)\n",
      "       38    0.001    0.000    0.003    0.000 common.py:210(_get_filepath_or_buffer)\n",
      "      266    0.001    0.000    0.001    0.000 common.py:231(is_sparse)\n",
      "       38    0.000    0.000    0.000    0.000 common.py:254(maybe_iterable_to_list)\n",
      "       38    0.000    0.000    0.000    0.000 common.py:268(is_null_slice)\n",
      "      228    0.000    0.000    0.000    0.000 common.py:317(apply_if_callable)\n",
      "      152    0.000    0.000    0.000    0.000 common.py:355(is_datetime64_dtype)\n",
      "      342    0.000    0.000    0.001    0.000 common.py:388(is_datetime64tz_dtype)\n",
      "       38    0.000    0.000    0.000    0.000 common.py:403(get_compression_method)\n",
      "      608    0.001    0.000    0.001    0.000 common.py:429(is_timedelta64_dtype)\n",
      "       38    0.000    0.000    0.001    0.000 common.py:438(infer_compression)\n",
      "      912    0.001    0.000    0.004    0.000 common.py:463(is_period_dtype)\n",
      "       38    0.001    0.000    0.015    0.000 common.py:491(get_handle)\n",
      "      912    0.001    0.000    0.005    0.000 common.py:499(is_interval_dtype)\n",
      "       38    0.000    0.000    0.030    0.001 common.py:50(new_method)\n",
      "     1368    0.002    0.000    0.008    0.000 common.py:537(is_categorical_dtype)\n",
      "      266    0.000    0.000    0.003    0.000 common.py:573(is_string_dtype)\n",
      "      114    0.000    0.000    0.003    0.000 common.py:602(condition)\n",
      "      114    0.000    0.000    0.003    0.000 common.py:605(is_excluded_dtype)\n",
      "      456    0.000    0.000    0.002    0.000 common.py:610(<genexpr>)\n",
      "       38    0.000    0.000    0.000    0.000 common.py:70(get_op_result_name)\n",
      "      570    0.001    0.000    0.003    0.000 common.py:703(is_integer_dtype)\n",
      "      114    0.000    0.000    0.002    0.000 common.py:75(is_bool_indexer)\n",
      "      228    0.000    0.000    0.001    0.000 common.py:757(is_signed_integer_dtype)\n",
      "       38    0.000    0.000    0.000    0.000 common.py:793(_maybe_memory_map)\n",
      "       38    0.000    0.000    0.001    0.000 common.py:81(close)\n",
      "      228    0.000    0.000    0.001    0.000 common.py:813(is_unsigned_integer_dtype)\n",
      "       76    0.000    0.000    0.001    0.000 common.py:846(_is_binary_mode)\n",
      "      532    0.000    0.000    0.001    0.000 common.py:912(is_datetime64_any_dtype)\n",
      "       38    0.001    0.000    0.102    0.003 construction.py:241(init_dict)\n",
      "       38    0.000    0.000    0.017    0.000 construction.py:333(_homogenize)\n",
      "      304    0.000    0.000    0.002    0.000 construction.py:354(extract_array)\n",
      "       38    0.000    0.000    0.000    0.000 construction.py:405(ensure_wrapped_if_datetimelike)\n",
      "      190    0.002    0.000    0.023    0.000 construction.py:423(sanitize_array)\n",
      "      190    0.001    0.000    0.008    0.000 construction.py:554(_try_cast)\n",
      "      190    0.000    0.000    0.001    0.000 construction.py:612(is_empty_data)\n",
      "       38    0.000    0.000    0.045    0.001 construction.py:62(arrays_to_mgr)\n",
      "       38    0.000    0.000    0.020    0.001 construction.py:632(create_series_with_explicit_dtype)\n",
      "       38    0.000    0.000    0.000    0.000 contextlib.py:353(__init__)\n",
      "       38    0.000    0.000    0.000    0.000 contextlib.py:356(__enter__)\n",
      "       38    0.000    0.000    0.000    0.000 contextlib.py:359(__exit__)\n",
      "       38    0.000    0.000    0.000    0.000 dispatch.py:11(should_extension_dispatch)\n",
      "      722    0.001    0.000    0.003    0.000 dtypes.py:1132(is_dtype)\n",
      "      722    0.001    0.000    0.003    0.000 dtypes.py:923(is_dtype)\n",
      "      304    0.001    0.000    0.001    0.000 flags.py:47(__init__)\n",
      "      190    0.000    0.000    0.000    0.000 flags.py:51(allows_duplicate_labels)\n",
      "      190    0.000    0.000    0.000    0.000 flags.py:83(allows_duplicate_labels)\n",
      "       76    0.001    0.000    0.015    0.000 frame.py:2987(__getitem__)\n",
      "       76    0.000    0.000    0.003    0.000 frame.py:3306(_box_col_values)\n",
      "       38    0.000    0.000    0.103    0.003 frame.py:502(__init__)\n",
      "       38    0.000    0.000    0.000    0.000 frame.py:628(axes)\n",
      "       76    0.000    0.000    0.000    0.000 function.py:45(__call__)\n",
      "       38    0.000    0.000    0.004    0.000 generic.py:10565(_logical_func)\n",
      "       38    0.000    0.000    0.005    0.000 generic.py:10593(any)\n",
      "       38    0.000    0.000    0.005    0.000 generic.py:10858(any)\n",
      "      304    0.002    0.000    0.002    0.000 generic.py:188(__init__)\n",
      "      190    0.000    0.000    0.000    0.000 generic.py:227(attrs)\n",
      "      380    0.000    0.000    0.000    0.000 generic.py:248(flags)\n",
      "    13148    0.005    0.000    0.006    0.000 generic.py:30(_check)\n",
      "       76    0.000    0.000    0.000    0.000 generic.py:340(_validate_dtype)\n",
      "       76    0.000    0.000    0.000    0.000 generic.py:3409(_set_as_cached)\n",
      "       38    0.000    0.000    0.005    0.000 generic.py:3606(xs)\n",
      "       76    0.001    0.000    0.012    0.000 generic.py:3783(_get_item_cache)\n",
      "       38    0.000    0.000    0.000    0.000 generic.py:424(_construct_axes_from_arguments)\n",
      "       38    0.000    0.000    0.000    0.000 generic.py:453(<dictcomp>)\n",
      "      342    0.000    0.000    0.000    0.000 generic.py:456(_get_axis_number)\n",
      "       38    0.000    0.000    0.005    0.000 generic.py:4564(reindex)\n",
      "      266    0.000    0.000    0.001    0.000 generic.py:470(_get_axis)\n",
      "       76    0.000    0.000    0.003    0.000 generic.py:4797(<genexpr>)\n",
      "      190    0.002    0.000    0.003    0.000 generic.py:5411(__finalize__)\n",
      "      342    0.001    0.000    0.001    0.000 generic.py:5449(__getattr__)\n",
      "      494    0.002    0.000    0.005    0.000 generic.py:5467(__setattr__)\n",
      "       38    0.000    0.000    0.000    0.000 generic.py:5522(_protect_consolidate)\n",
      "       38    0.000    0.000    0.000    0.000 generic.py:5534(_consolidate_inplace)\n",
      "       38    0.000    0.000    0.000    0.000 generic.py:5538(f)\n",
      "       38    0.000    0.000    0.000    0.000 generic.py:569(ndim)\n",
      "       38    0.000    0.000    0.010    0.000 generic.py:7416(isna)\n",
      "       38    0.000    0.000    0.003    0.000 indexers.py:363(check_array_indexer)\n",
      "      152    0.000    0.000    0.000    0.000 indexers.py:52(is_list_like_indexer)\n",
      "       38    0.000    0.000    0.000    0.000 indexing.py:103(iloc)\n",
      "       38    0.000    0.000    0.021    0.001 indexing.py:1058(_getitem_tuple)\n",
      "       38    0.000    0.000    0.005    0.000 indexing.py:1071(_get_label)\n",
      "       76    0.001    0.000    0.019    0.000 indexing.py:1092(_getitem_axis)\n",
      "       38    0.000    0.000    0.000    0.000 indexing.py:1426(_validate_integer)\n",
      "       38    0.000    0.000    0.001    0.000 indexing.py:1479(_getitem_axis)\n",
      "       38    0.000    0.000    0.004    0.000 indexing.py:2238(check_bool_indexer)\n",
      "       76    0.000    0.000    0.000    0.000 indexing.py:2340(is_label_like)\n",
      "       76    0.000    0.000    0.000    0.000 indexing.py:240(loc)\n",
      "       38    0.000    0.000    0.000    0.000 indexing.py:730(_is_nested_tuple_indexer)\n",
      "      114    0.000    0.000    0.000    0.000 indexing.py:736(<genexpr>)\n",
      "       38    0.000    0.000    0.000    0.000 indexing.py:759(_validate_key_length)\n",
      "       38    0.001    0.000    0.021    0.001 indexing.py:782(_getitem_lowerdim)\n",
      "   114/76    0.000    0.000    0.023    0.000 indexing.py:882(__getitem__)\n",
      "      114    0.000    0.000    0.000    0.000 indexing.py:884(<genexpr>)\n",
      "       38    0.000    0.000    0.012    0.000 indexing.py:909(_getbool_axis)\n",
      "       38    0.000    0.000    0.000    0.000 indexing.py:929(_validate_key)\n",
      "       38    0.000    0.000    0.000    0.000 indexing.py:941(_is_scalar_access)\n",
      "      190    0.000    0.000    0.001    0.000 inference.py:185(is_array_like)\n",
      "      114    0.000    0.000    0.001    0.000 inference.py:263(is_dict_like)\n",
      "      342    0.000    0.000    0.000    0.000 inference.py:289(<genexpr>)\n",
      "     1026    0.001    0.000    0.001    0.000 inference.py:322(is_hashable)\n",
      "       76    0.000    0.000    0.000    0.000 inference.py:96(is_file_like)\n",
      "      159    0.001    0.000    0.004    0.000 iostream.py:195(schedule)\n",
      "      152    0.000    0.000    0.000    0.000 iostream.py:308(_is_master_process)\n",
      "      152    0.000    0.000    0.001    0.000 iostream.py:321(_schedule_flush)\n",
      "      152    0.001    0.000    0.005    0.000 iostream.py:384(write)\n",
      "      159    0.000    0.000    0.000    0.000 iostream.py:91(_event_pipe)\n",
      "       38    0.000    0.000    0.001    0.000 managers.py:126(__init__)\n",
      "       38    0.000    0.000    0.000    0.000 managers.py:132(<listcomp>)\n",
      "      228    0.000    0.000    0.001    0.000 managers.py:1545(__init__)\n",
      "       76    0.000    0.000    0.003    0.000 managers.py:157(blknos)\n",
      "      152    0.001    0.000    0.010    0.000 managers.py:1577(from_array)\n",
      "      608    0.000    0.000    0.000    0.000 managers.py:1588(_block)\n",
      "      266    0.000    0.000    0.000    0.000 managers.py:1615(dtype)\n",
      "      266    0.000    0.000    0.001    0.000 managers.py:1626(internal_values)\n",
      "       38    0.000    0.000    0.000    0.000 managers.py:1634(is_consolidated)\n",
      "       38    0.000    0.000    0.018    0.000 managers.py:1690(create_block_manager_from_arrays)\n",
      "      114    0.000    0.000    0.000    0.000 managers.py:1695(<genexpr>)\n",
      "       38    0.000    0.000    0.000    0.000 managers.py:1699(<listcomp>)\n",
      "       76    0.000    0.000    0.000    0.000 managers.py:173(blklocs)\n",
      "       38    0.002    0.000    0.016    0.000 managers.py:1733(_form_blocks)\n",
      "       38    0.000    0.000    0.008    0.000 managers.py:1829(_simple_blockify)\n",
      "       38    0.003    0.000    0.005    0.000 managers.py:1860(_stack_arrays)\n",
      "       76    0.000    0.000    0.000    0.000 managers.py:1863(_asarray_compat)\n",
      "       38    0.000    0.000    0.000    0.000 managers.py:1869(_shape_compat)\n",
      "      114    0.000    0.000    0.001    0.000 managers.py:206(shape)\n",
      "      342    0.000    0.000    0.001    0.000 managers.py:208(<genexpr>)\n",
      "       76    0.000    0.000    0.000    0.000 managers.py:210(ndim)\n",
      "       38    0.001    0.000    0.003    0.000 managers.py:232(_rebuild_blknos_and_blklocs)\n",
      "       38    0.000    0.000    0.000    0.000 managers.py:253(items)\n",
      "       38    0.000    0.000    0.001    0.000 managers.py:318(_verify_integrity)\n",
      "       76    0.000    0.000    0.000    0.000 managers.py:320(<genexpr>)\n",
      "       38    0.000    0.000    0.000    0.000 managers.py:681(is_consolidated)\n",
      "       38    0.000    0.000    0.000    0.000 managers.py:689(_consolidate_check)\n",
      "       38    0.000    0.000    0.000    0.000 managers.py:690(<listcomp>)\n",
      "       38    0.000    0.000    0.000    0.000 managers.py:975(consolidate)\n",
      "       38    0.000    0.000    0.000    0.000 managers.py:991(_consolidate_inplace)\n",
      "       76    0.001    0.000    0.005    0.000 managers.py:998(iget)\n",
      "       76    0.000    0.000    0.010    0.000 missing.py:133(_isna)\n",
      "       38    0.000    0.000    0.009    0.000 missing.py:202(_isna_ndarraylike)\n",
      "       38    0.000    0.000    0.001    0.000 missing.py:244(_isna_string_dtype)\n",
      "       76    0.000    0.000    0.003    0.000 missing.py:367(array_equivalent)\n",
      "       76    0.000    0.000    0.001    0.000 missing.py:465(_array_equivalent_object)\n",
      "       76    0.000    0.000    0.010    0.000 missing.py:50(isna)\n",
      "       38    0.000    0.000    0.000    0.000 missing.py:64(clean_fill_method)\n",
      "       38    0.000    0.000    0.000    0.000 missing.py:721(clean_reindex_fill_method)\n",
      "       76    0.000    0.000    0.000    0.000 multiarray.py:143(concatenate)\n",
      "       38    0.000    0.000    0.000    0.000 nanops.py:172(_get_fill_value)\n",
      "       38    0.000    0.000    0.000    0.000 nanops.py:197(_maybe_get_mask)\n",
      "       38    0.000    0.000    0.001    0.000 nanops.py:241(_get_values)\n",
      "       38    0.000    0.000    0.000    0.000 nanops.py:328(_na_ok_dtype)\n",
      "       38    0.000    0.000    0.002    0.000 nanops.py:440(nanany)\n",
      "      152    0.000    0.000    0.000    0.000 numeric.py:164(_is_all_dates)\n",
      "       38    0.000    0.000    0.000    0.000 numeric.py:78(_validate_dtype)\n",
      "       76    0.000    0.000    0.001    0.000 numpy_.py:156(__init__)\n",
      "       38    0.000    0.000    0.000    0.000 numpy_.py:202(__array__)\n",
      "       38    0.000    0.000    0.000    0.000 numpy_.py:371(to_numpy)\n",
      "       76    0.000    0.000    0.000    0.000 numpy_.py:41(__init__)\n",
      "       76    0.000    0.000    0.000    0.000 parse.py:102(_noop)\n",
      "       76    0.000    0.000    0.000    0.000 parse.py:113(_coerce_args)\n",
      "       38    0.000    0.000    0.001    0.000 parse.py:369(urlparse)\n",
      "       38    0.000    0.000    0.000    0.000 parse.py:420(urlsplit)\n",
      "       38    0.000    0.000    0.089    0.002 parsers.py:1039(_make_engine)\n",
      "       38    0.001    0.000    1.256    0.033 parsers.py:1055(read)\n",
      "       38    0.000    0.000    0.000    0.000 parsers.py:1086(__enter__)\n",
      "       38    0.000    0.000    0.003    0.000 parsers.py:1089(__exit__)\n",
      "      114    0.000    0.000    0.000    0.000 parsers.py:1093(_is_index_col)\n",
      "      114    0.000    0.000    0.001    0.000 parsers.py:1097(_is_potential_multi_index)\n",
      "      228    0.000    0.000    0.000    0.000 parsers.py:1121(<genexpr>)\n",
      "       76    0.000    0.000    0.000    0.000 parsers.py:1125(_evaluate_usecols)\n",
      "       38    0.000    0.000    0.002    0.000 parsers.py:1199(_validate_usecols_arg)\n",
      "       38    0.000    0.000    0.000    0.000 parsers.py:1249(_validate_parse_dates_arg)\n",
      "       38    0.000    0.000    0.001    0.000 parsers.py:1272(__init__)\n",
      "       38    0.000    0.000    0.015    0.000 parsers.py:1358(_open_handles)\n",
      "       38    0.000    0.000    0.001    0.000 parsers.py:1371(_validate_parse_dates_presence)\n",
      "       38    0.000    0.000    0.000    0.000 parsers.py:1407(<setcomp>)\n",
      "       38    0.000    0.000    0.001    0.000 parsers.py:1419(close)\n",
      "       38    0.000    0.000    0.000    0.000 parsers.py:1423(_has_complex_date_col)\n",
      "       38    0.001    0.000    0.001    0.000 parsers.py:1509(_maybe_dedup_names)\n",
      "       76    0.000    0.000    0.000    0.000 parsers.py:1539(_maybe_make_multi_index_columns)\n",
      "       38    0.000    0.000    0.000    0.000 parsers.py:1545(_make_index)\n",
      "       38    0.000    0.000    0.000    0.000 parsers.py:1835(_do_date_conversions)\n",
      "       38    0.063    0.002    0.088    0.002 parsers.py:1853(__init__)\n",
      "       38    0.000    0.000    0.003    0.000 parsers.py:1987(close)\n",
      "       38    0.000    0.000    0.000    0.000 parsers.py:1996(_set_noconvert_columns)\n",
      "       38    0.001    0.000    1.149    0.030 parsers.py:2059(read)\n",
      "       38    0.000    0.000    0.000    0.000 parsers.py:2134(<listcomp>)\n",
      "       38    0.000    0.000    0.000    0.000 parsers.py:2136(<dictcomp>)\n",
      "       38    0.000    0.000    0.000    0.000 parsers.py:2146(_filter_usecols)\n",
      "       38    0.000    0.000    0.000    0.000 parsers.py:3299(_make_date_converter)\n",
      "       38    0.000    0.000    0.000    0.000 parsers.py:3344(_process_date_conversion)\n",
      "       38    0.000    0.000    0.000    0.000 parsers.py:3432(_clean_na_values)\n",
      "       38    0.000    0.000    0.000    0.000 parsers.py:3786(_refine_defaults_read)\n",
      "       38    0.000    0.000    0.000    0.000 parsers.py:3875(_extract_dialect)\n",
      "       76    0.001    0.000    0.001    0.000 parsers.py:394(validate_integer)\n",
      "       38    0.000    0.000    0.000    0.000 parsers.py:3971(_validate_skipfooter)\n",
      "       38    0.000    0.000    0.000    0.000 parsers.py:423(_validate_names)\n",
      "       38    0.003    0.000    1.353    0.036 parsers.py:447(_read)\n",
      "       38    0.001    0.000    1.354    0.036 parsers.py:533(read_csv)\n",
      "       38    0.001    0.000    0.091    0.002 parsers.py:780(__init__)\n",
      "       38    0.000    0.000    0.003    0.000 parsers.py:821(close)\n",
      "       38    0.001    0.000    0.001    0.000 parsers.py:824(_get_options_with_defaults)\n",
      "       38    0.000    0.000    0.000    0.000 parsers.py:865(_check_file_or_buffer)\n",
      "       38    0.001    0.000    0.001    0.000 parsers.py:876(_clean_options)\n",
      "      114    0.000    0.000    0.000    0.000 posixpath.py:228(expanduser)\n",
      "       38    0.000    0.000    0.001    0.000 range.py:133(_simple_new)\n",
      "       38    0.000    0.000    0.001    0.000 range.py:152(_data)\n",
      "       38    0.000    0.000    0.000    0.000 range.py:207(start)\n",
      "       38    0.000    0.000    0.000    0.000 range.py:230(stop)\n",
      "       38    0.000    0.000    0.000    0.000 range.py:253(step)\n",
      "       38    0.000    0.000    0.001    0.000 range.py:395(_shallow_copy)\n",
      "       38    0.000    0.000    0.000    0.000 range.py:474(equals)\n",
      "      342    0.000    0.000    0.000    0.000 range.py:747(__len__)\n",
      "       38    0.001    0.000    0.002    0.000 range.py:85(__new__)\n",
      "  266/228    0.003    0.000    0.060    0.000 series.py:238(__init__)\n",
      "       38    0.000    0.000    0.009    0.000 series.py:2734(_construct_result)\n",
      "       38    0.000    0.000    0.026    0.001 series.py:372(_init_dict)\n",
      "       38    0.000    0.000    0.004    0.000 series.py:4149(_reduce)\n",
      "      114    0.000    0.000    0.000    0.000 series.py:422(_constructor)\n",
      "       38    0.000    0.000    0.005    0.000 series.py:4337(reindex)\n",
      "      266    0.001    0.000    0.001    0.000 series.py:439(_set_axis)\n",
      "      266    0.000    0.000    0.001    0.000 series.py:473(dtype)\n",
      "       38    0.000    0.000    0.011    0.000 series.py:4778(isna)\n",
      "      494    0.001    0.000    0.002    0.000 series.py:488(name)\n",
      "       38    0.000    0.000    0.030    0.001 series.py:4969(_cmp_method)\n",
      "      418    0.001    0.000    0.003    0.000 series.py:538(name)\n",
      "      266    0.000    0.000    0.001    0.000 series.py:585(_values)\n",
      "       76    0.000    0.000    0.001    0.000 series.py:620(array)\n",
      "       38    0.000    0.000    0.001    0.000 series.py:721(__array__)\n",
      "       38    0.000    0.000    0.007    0.000 series.py:791(take)\n",
      "       38    0.000    0.000    0.007    0.000 series.py:809(_take_with_is_copy)\n",
      "       38    0.000    0.000    0.000    0.000 series.py:820(_ixs)\n",
      "      159    0.003    0.000    0.003    0.000 socket.py:438(send)\n",
      "      159    0.000    0.000    0.000    0.000 threading.py:1017(_wait_for_tstate_lock)\n",
      "      159    0.000    0.000    0.001    0.000 threading.py:1071(is_alive)\n",
      "      159    0.000    0.000    0.000    0.000 threading.py:513(is_set)\n",
      "       38    0.000    0.000    0.000    0.000 typing.py:1149(cast)\n",
      "      190    0.000    0.000    0.000    0.000 typing.py:1822(new_type)\n",
      "       38    0.000    0.000    0.000    0.000 typing.py:768(__instancecheck__)\n",
      "       38    0.000    0.000    0.000    0.000 typing.py:771(__subclasscheck__)\n",
      "      228    0.000    0.000    0.000    0.000 {built-in method __new__ of type object at 0x908780}\n",
      "     1406    0.001    0.000    0.001    0.000 {built-in method _abc._abc_instancecheck}\n",
      "       38    0.000    0.000    0.000    0.000 {built-in method _abc._abc_subclasscheck}\n",
      "      608    0.029    0.000    0.029    0.000 {built-in method _codecs.utf_8_decode}\n",
      "  836/798    0.001    0.000    0.006    0.000 {built-in method builtins.all}\n",
      "      152    0.000    0.000    0.003    0.000 {built-in method builtins.any}\n",
      "      342    0.000    0.000    0.000    0.000 {built-in method builtins.callable}\n",
      "        1    0.000    0.000    1.430    1.430 {built-in method builtins.exec}\n",
      "    19608    0.003    0.000    0.003    0.000 {built-in method builtins.getattr}\n",
      "     2318    0.001    0.000    0.001    0.000 {built-in method builtins.hasattr}\n",
      "     1102    0.000    0.000    0.000    0.000 {built-in method builtins.hash}\n"
     ]
    },
    {
     "name": "stdout",
     "output_type": "stream",
     "text": [
      "34808/34770    0.012    0.000    0.020    0.000 {built-in method builtins.isinstance}\n",
      "     8664    0.001    0.000    0.002    0.000 {built-in method builtins.issubclass}\n",
      "       38    0.000    0.000    0.000    0.000 {built-in method builtins.iter}\n",
      "4636/3762    0.002    0.000    0.003    0.000 {built-in method builtins.len}\n",
      "       38    0.000    0.000    0.000    0.000 {built-in method builtins.locals}\n",
      "       38    0.000    0.000    0.000    0.000 {built-in method builtins.next}\n",
      "       38    0.000    0.000    0.000    0.000 {built-in method builtins.ord}\n",
      "       38    0.000    0.000    0.006    0.000 {built-in method builtins.print}\n",
      "       76    0.000    0.000    0.000    0.000 {built-in method builtins.sorted}\n",
      "       38    0.000    0.000    0.000    0.000 {built-in method builtins.sum}\n",
      "       38    0.010    0.000    0.010    0.000 {built-in method io.open}\n",
      "      114    0.001    0.000    0.001    0.000 {built-in method numpy.arange}\n",
      " 1064/988    0.003    0.000    0.004    0.000 {built-in method numpy.array}\n",
      "       76    0.004    0.000    0.004    0.000 {built-in method numpy.core._multiarray_umath.implement_array_function}\n",
      "      304    0.003    0.000    0.003    0.000 {built-in method numpy.empty}\n",
      "      152    0.000    0.000    0.000    0.000 {built-in method numpy.geterrobj}\n",
      "       76    0.000    0.000    0.000    0.000 {built-in method numpy.seterrobj}\n",
      "       38    0.000    0.000    0.000    0.000 {built-in method pandas._libs.lib.is_datetime_array}\n",
      "       38    0.000    0.000    0.000    0.000 {built-in method pandas._libs.missing.checknull}\n",
      "       38    0.001    0.000    0.001    0.000 {built-in method pandas._libs.missing.isnaobj}\n",
      "      114    0.000    0.000    0.000    0.000 {built-in method posix.fspath}\n",
      "      152    0.000    0.000    0.000    0.000 {built-in method posix.getpid}\n",
      "       38    0.000    0.000    0.000    0.000 {built-in method sys.getfilesystemencoding}\n",
      "      159    0.000    0.000    0.000    0.000 {method 'acquire' of '_thread.lock' objects}\n",
      "       76    0.000    0.000    0.001    0.000 {method 'any' of 'numpy.ndarray' objects}\n",
      "      159    0.000    0.000    0.000    0.000 {method 'append' of 'collections.deque' objects}\n",
      "      190    0.000    0.000    0.000    0.000 {method 'append' of 'list' objects}\n",
      "       38    0.001    0.000    0.001    0.000 {method 'close' of '_io.TextIOWrapper' objects}\n",
      "       38    0.002    0.000    0.002    0.000 {method 'close' of 'pandas._libs.parsers.TextReader' objects}\n",
      "       76    0.000    0.000    0.000    0.000 {method 'copy' of 'dict' objects}\n",
      "        1    0.000    0.000    0.000    0.000 {method 'disable' of '_lsprof.Profiler' objects}\n",
      "       38    0.000    0.000    0.000    0.000 {method 'encode' of 'str' objects}\n",
      "      152    0.000    0.000    0.000    0.000 {method 'endswith' of 'str' objects}\n",
      "       38    0.000    0.000    0.000    0.000 {method 'extend' of 'list' objects}\n",
      "       76    0.000    0.000    0.000    0.000 {method 'fill' of 'numpy.ndarray' objects}\n",
      "     2470    0.000    0.000    0.000    0.000 {method 'get' of 'dict' objects}\n",
      "       76    0.000    0.000    0.000    0.000 {method 'get_loc' of 'pandas._libs.index.IndexEngine' objects}\n",
      "      190    0.000    0.000    0.000    0.000 {method 'items' of 'dict' objects}\n",
      "       38    0.000    0.000    0.000    0.000 {method 'join' of 'str' objects}\n",
      "       38    0.000    0.000    0.000    0.000 {method 'keys' of 'dict' objects}\n",
      "      190    0.000    0.000    0.000    0.000 {method 'lower' of 'str' objects}\n",
      "       38    0.000    0.000    0.000    0.000 {method 'nonzero' of 'numpy.ndarray' objects}\n",
      "      874    0.000    0.000    0.000    0.000 {method 'pop' of 'dict' objects}\n",
      "      228    0.000    0.000    0.000    0.000 {method 'ravel' of 'numpy.ndarray' objects}\n",
      "       38    1.107    0.029    1.146    0.030 {method 'read' of 'pandas._libs.parsers.TextReader' objects}\n",
      "       76    0.001    0.000    0.001    0.000 {method 'reduce' of 'numpy.ufunc' objects}\n",
      "      266    0.000    0.000    0.000    0.000 {method 'replace' of 'str' objects}\n",
      "       76    0.000    0.000    0.000    0.000 {method 'reshape' of 'numpy.ndarray' objects}\n",
      "       38    0.000    0.000    0.000    0.000 {method 'reverse' of 'list' objects}\n",
      "       38    0.000    0.000    0.000    0.000 {method 'sort' of 'list' objects}\n",
      "      114    0.000    0.000    0.000    0.000 {method 'startswith' of 'str' objects}\n",
      "       76    0.000    0.000    0.000    0.000 {method 'take' of 'numpy.ndarray' objects}\n",
      "       38    0.000    0.000    0.000    0.000 {method 'update' of 'dict' objects}\n",
      "       38    0.000    0.000    0.000    0.000 {method 'upper' of 'str' objects}\n",
      "       76    0.000    0.000    0.000    0.000 {method 'values' of 'dict' objects}\n",
      "      266    0.000    0.000    0.000    0.000 {pandas._libs.algos.ensure_object}\n",
      "       76    0.000    0.000    0.000    0.000 {pandas._libs.algos.ensure_platform_int}\n",
      "       76    0.000    0.000    0.000    0.000 {pandas._libs.lib.array_equivalent_object}\n",
      "       76    0.002    0.000    0.004    0.000 {pandas._libs.lib.clean_index_list}\n",
      "       76    0.000    0.000    0.000    0.000 {pandas._libs.lib.infer_datetimelike_array}\n",
      "      266    0.012    0.000    0.014    0.000 {pandas._libs.lib.infer_dtype}\n",
      "       38    0.000    0.000    0.000    0.000 {pandas._libs.lib.is_bool}\n",
      "      228    0.000    0.000    0.000    0.000 {pandas._libs.lib.is_float}\n",
      "       38    0.000    0.000    0.000    0.000 {pandas._libs.lib.is_integer}\n",
      "      266    0.000    0.000    0.000    0.000 {pandas._libs.lib.is_iterator}\n",
      "      988    0.002    0.000    0.003    0.000 {pandas._libs.lib.is_list_like}\n",
      "      494    0.000    0.000    0.000    0.000 {pandas._libs.lib.is_scalar}\n",
      "      266    0.000    0.000    0.000    0.000 {pandas._libs.lib.item_from_zerodim}\n",
      "       38    0.017    0.000    0.017    0.000 {pandas._libs.ops.scalar_compare}\n",
      "\n",
      "\n"
     ]
    }
   ],
   "source": [
    "import pandas as pd\n",
    "import cProfile\n",
    "\n",
    "def get_star_type(lc_id):\n",
    "\n",
    "    table = pd.read_csv('test_featuretable.csv', names = ['lc','type'],usecols = [0,1], skiprows=1) \n",
    "    \n",
    "    star_type = table.loc[table['lc'] == lc_id, 'type'].iloc[0]\n",
    "    \n",
    "    return star_type\n",
    "    \n",
    "def main():\n",
    "    \n",
    "    stars = ['41259805_sector01_4_2.lc', '306893839_sector01_4_3.lc', '308452159_sector01_4_3.lc', \\\n",
    "             '309148260_sector01_4_3.lc', '327597288_sector01_2_1.lc', '348898673_sector01_4_3.lc', \\\n",
    "             '349409844_sector01_4_3.lc', '350146577_sector01_4_3.lc', '355650641_sector01_2_2.lc', \\\n",
    "             '358467700_sector01_4_3.lc', '364424408_sector01_4_2.lc', '369220372_sector01_1_1.lc', \\\n",
    "             '382512330_sector01_4_3.lc', '392761412_sector01_3_2.lc', '404807716_sector01_4_2.lc', \\\n",
    "             '410451777_sector01_4_3.lc', '441155956_sector01_1_3.lc', '140687857_sector01_4_2.lc', \\\n",
    "             '142109122_sector01_4_2.lc', '150106606_sector01_4_4.lc', '150270037_sector01_4_3.lc', \\\n",
    "             '167167404_sector01_4_3.lc', '267428681_sector01_3_2.lc', '269792822_sector01_3_3.lc', \\\n",
    "             '271642238_sector01_4_2.lc', '276861305_sector01_4_1.lc', '277316247_sector01_4_1.lc', \\\n",
    "             '278863994_sector01_4_4.lc', '293347406_sector01_4_3.lc', '306470448_sector01_4_3.lc', \\\n",
    "             '306577678_sector01_4_3.lc', '306580505_sector01_4_3.lc', '309701876_sector01_4_1.lc', \\\n",
    "             '349413748_sector01_4_3.lc', '350434368_sector01_4_4.lc', '350518415_sector01_4_4.lc', \\\n",
    "             '364588437_sector01_4_2.lc', '373767115_sector01_4_2.lc']  \n",
    "       \n",
    "    for star in stars:\n",
    "        print(star, get_star_type(star))\n",
    "\n",
    "cProfile.run('main()')"
   ]
  },
  {
   "cell_type": "markdown",
   "metadata": {},
   "source": [
    "**Question:**\n",
    "Do you see what's happening?    "
   ]
  },
  {
   "cell_type": "markdown",
   "metadata": {},
   "source": [
    "### 3.2. avoiding slow program/ data structures\n",
    "\n",
    "\n",
    "Certain program structures, as well as data structures, tend to be slow in Python.\n",
    "It is good to know about this and whenever possible, replace these program and data structures by faster ones.\n"
   ]
  },
  {
   "cell_type": "markdown",
   "metadata": {},
   "source": [
    "**Example:** Reducing execution time by using list comprehensions\n",
    "    \n",
    "Forming a list of all even numbers up to $10^5$ can be done in the following ways:"
   ]
  },
  {
   "cell_type": "code",
   "execution_count": 3,
   "metadata": {},
   "outputs": [
    {
     "name": "stdout",
     "output_type": "stream",
     "text": [
      "101 ms ± 17.1 ms per loop (mean ± std. dev. of 7 runs, 100 loops each)\n"
     ]
    }
   ],
   "source": [
    "%%timeit -n 100\n",
    "  \n",
    "even =[ ]\n",
    "for i in range(10**6):\n",
    "    if i % 2 == 0:\n",
    "        even.append(i)"
   ]
  },
  {
   "cell_type": "code",
   "execution_count": 4,
   "metadata": {},
   "outputs": [
    {
     "name": "stdout",
     "output_type": "stream",
     "text": [
      "68.7 ms ± 4.82 ms per loop (mean ± std. dev. of 7 runs, 100 loops each)\n"
     ]
    }
   ],
   "source": [
    "%%timeit -n 100\n",
    "  \n",
    "even =[i for i in range(10**6) if i % 2 == 0]"
   ]
  },
  {
   "cell_type": "markdown",
   "metadata": {},
   "source": [
    "This time difference matters a lot when these type of lists are part of a very large program."
   ]
  },
  {
   "cell_type": "code",
   "execution_count": 2,
   "metadata": {},
   "outputs": [
    {
     "name": "stdout",
     "output_type": "stream",
     "text": [
      "Execution time =  1.2491912841796875\n",
      "Execution time =  0.7064037322998047\n"
     ]
    }
   ],
   "source": [
    "import time \n",
    "  \n",
    "  \n",
    "# Using for loop\n",
    "start = time.time()\n",
    "a =[ ]\n",
    "  \n",
    "for i in range(10**7):\n",
    "    if i % 2 == 0:\n",
    "        a.append(i)\n",
    "          \n",
    "print(\"Execution time = \", time.time()-start)\n",
    "  \n",
    "# Using list comprehension\n",
    "start = time.time()\n",
    "   \n",
    "a =[i for i in range(10**7) if i % 2 == 0]\n",
    "print(\"Execution time = \", time.time()-start)"
   ]
  },
  {
   "cell_type": "markdown",
   "metadata": {},
   "source": [
    "Another example:"
   ]
  },
  {
   "cell_type": "code",
   "execution_count": 3,
   "metadata": {},
   "outputs": [
    {
     "name": "stdout",
     "output_type": "stream",
     "text": [
      "Loop:\t80.9 ms ± 3.61 ms per loop (mean ± std. dev. of 7 runs, 10 loops each)\n"
     ]
    },
    {
     "data": {
      "image/png": "[encoded data removed]",
      "text/plain": [
       "<Figure size 720x720 with 1 Axes>"
      ]
     },
     "metadata": {
      "needs_background": "light"
     },
     "output_type": "display_data"
    }
   ],
   "source": [
    "## source: https://gist.github.com/straussmaximilian\n",
    "\n",
    "import numpy as np\n",
    "\n",
    "\n",
    "def random_array(size, dim=3):\n",
    "    \"\"\"\n",
    "    Generate a random array of size size and dimension dim\n",
    "    \"\"\"\n",
    "    return np.random.rand(int(size), dim)\n",
    "\n",
    "\n",
    "def loop(array):\n",
    "    \"\"\"\n",
    "    Takes a numpy array and isolates all points that are within [0.2,0.4]\n",
    "    for the first column and between [0.4,0.6] for the second column by\n",
    "    looping through every point.\n",
    "    \"\"\"\n",
    "    filtered_list = []\n",
    "    for i in range(len(array)):\n",
    "        # Check if the point is within the rectangle\n",
    "        if ((array[i][0] >= 0.2)\n",
    "            and (array[i][1] >= 0.4)\n",
    "            and (array[i][0] <= 0.4)\n",
    "            and (array[i][1] <= 0.6)):\n",
    "            filtered_list.append(array[i])\n",
    "    return np.array(filtered_list)\n",
    "\n",
    "\n",
    "# Generate a random array of size 1e5\n",
    "array = random_array(1e5)\n",
    "filtered_array = loop(array)\n",
    "\n",
    "# Measure code execution with inline magic (Jupyter Notebook)\n",
    "print('Loop:\\t', end='')\n",
    "%timeit loop(array)\n",
    "\n",
    "# Plot the results\n",
    "import matplotlib.pyplot as plt\n",
    "%matplotlib inline\n",
    "\n",
    "plt.figure(figsize=(10, 10))\n",
    "plt.title('Filtered points in rectangle')\n",
    "plt.plot(array[:, 0], array[:, 1], 'k.')\n",
    "plt.plot(filtered_array[:, 0], filtered_array[:, 1], 'r.')\n",
    "plt.show()"
   ]
  },
  {
   "cell_type": "code",
   "execution_count": 5,
   "metadata": {},
   "outputs": [
    {
     "name": "stdout",
     "output_type": "stream",
     "text": [
      "Python loop:\t29.8 ms ± 3.16 ms per loop (mean ± std. dev. of 7 runs, 10 loops each)\n"
     ]
    }
   ],
   "source": [
    "# source: https://gist.github.com/straussmaximilian\n",
    "\n",
    "def python_loop(random_list):\n",
    "    \"\"\"\n",
    "    Takes a list of tuples and isolates all points that are within [0.2,0.4]\n",
    "    for the first dimension and between [0.4,0.6] for the second dimension.\n",
    "    \"\"\"\n",
    "    filtered_list = []\n",
    "    for i in range(len(random_list)):\n",
    "        if ((random_list[i][0] >= 0.2)\n",
    "            and (random_list[i][1] >= 0.4)\n",
    "            and (random_list[i][0] <= 0.4)\n",
    "            and (random_list[i][1] <= 0.6)):\n",
    "            filtered_list.append(random_list[i])\n",
    "    return filtered_list\n",
    "\n",
    "# Convert the numpy array to a list of tuples\n",
    "python_list = list(map(tuple, array))\n",
    "\n",
    "print('Python loop:\\t', end='')\n",
    "%timeit python_loop(python_list)"
   ]
  },
  {
   "cell_type": "markdown",
   "metadata": {},
   "source": [
    "### 3.3 using compiled inline code\n",
    "\n",
    "In many cases, it is possible to speed up your code with the methods described above.\n",
    "Especially for scientific programming, other ways of speeding up our code can be necessary. E.g.: \n",
    "\n",
    "When running a MCMC, the likelihood function is repeatedly called with different parameters from the parameter space the MCMC is exploring. The likelihood function can be run in C/C++ which is many times faster. \n",
    "\n",
    "An example:\n"
   ]
  },
  {
   "cell_type": "code",
   "execution_count": 7,
   "metadata": {},
   "outputs": [],
   "source": [
    "%load_ext Cython"
   ]
  },
  {
   "cell_type": "code",
   "execution_count": 8,
   "metadata": {},
   "outputs": [],
   "source": [
    "\n",
    "\n",
    "%%cython\n",
    "def f(n):\n",
    "      a = 0\n",
    "      for i in range(n):\n",
    "          a += i\n",
    "      return a\n",
    "    \n",
    "cpdef g(int n):\n",
    "      cdef long a = 0\n",
    "      cdef int i\n",
    "      for i in range(n):\n",
    "         a += i\n",
    "      return a\n",
    " "
   ]
  },
  {
   "cell_type": "code",
   "execution_count": 9,
   "metadata": {},
   "outputs": [
    {
     "name": "stdout",
     "output_type": "stream",
     "text": [
      "41.1 ms ± 5.55 ms per loop (mean ± std. dev. of 7 runs, 10 loops each)\n"
     ]
    }
   ],
   "source": [
    "%timeit f(1000000)"
   ]
  },
  {
   "cell_type": "code",
   "execution_count": 10,
   "metadata": {},
   "outputs": [
    {
     "name": "stdout",
     "output_type": "stream",
     "text": [
      "347 µs ± 43.1 µs per loop (mean ± std. dev. of 7 runs, 1000 loops each)\n"
     ]
    }
   ],
   "source": [
    "%timeit g(1000000)"
   ]
  },
  {
   "cell_type": "markdown",
   "metadata": {},
   "source": [
    "Compared to the pure-Python version, the Cython version gives a ${\\sim}$95 times improvement. This is possible as C/C++ is not interpreted but compiled to machine code.\n",
    "\n",
    "More on this:\n",
    "\n",
    "https://cython.readthedocs.io/en/latest/src/userguide/source_files_and_compilation.html\n",
    "\n",
    "https://cython.readthedocs.io/en/latest/src/tutorial/cython_tutorial.html\n"
   ]
  },
  {
   "cell_type": "markdown",
   "metadata": {},
   "source": [
    "Another way to optimize calculations is the usage of `Numba`.\n",
    "\n",
    "`Numba` translates Python functions to optimized machine code at runtime using the industry-standard LLVM compiler library. Numba-compiled numerical algorithms in Python can approach the speeds of C or FORTRAN.\n",
    "\n",
    "You don't need to replace the Python interpreter, run a separate compilation step, or even have a C/C++ compiler installed. Just apply one of the Numba *decorators* to your Python function, and Numba does the rest. \n",
    "\n",
    "More on this:\n",
    "https://numba.pydata.org/"
   ]
  },
  {
   "cell_type": "markdown",
   "metadata": {},
   "source": [
    "## 4. Storing and reusing data structures - serializing with `pickle` <a class=\"anchor\" id=\"fourth-bullet\"></a>"
   ]
  },
  {
   "cell_type": "markdown",
   "metadata": {},
   "source": [
    "**Serializing** a Python object structure is the process of converting a Python object into a byte stream to store it in a file/database, maintain program state across sessions, or transport data over the network.\n",
    "\n",
    "**Question:** Which applications do you see for this?\n"
   ]
  },
  {
   "cell_type": "markdown",
   "metadata": {},
   "source": [
    "Imagine we carry out some rather time-expensive calculation at the beginning of our program. This needs to be carried out each time we start our code, e.g. we have to read in a table, calculate some values based on table columns...\n",
    "In this case it can be useful to simply save that data into a *.txt (*.dat, *.csv) file. This works great for data in a simple table format that we maybe also want to inspect manually.\n",
    "\n",
    "With more complicated **data structures**, such as e.g. trained classifiers, this becomes infeasible, and **serializing** is the right option.\n",
    "Also, even for *.txt files, reading in a serialized file can save a lot of time."
   ]
  },
  {
   "cell_type": "markdown",
   "metadata": {},
   "source": [
    "The `pickle` module implements binary protocols for serializing and de-serializing a Python object structure. \n",
    "\n",
    "In the following, we will use the `pickle` module to serialize a Python object.\n",
    "\n",
    "\n",
    "More on this:\n",
    "\n",
    "https://docs.python.org/3/library/pickle.html"
   ]
  },
  {
   "cell_type": "code",
   "execution_count": 27,
   "metadata": {},
   "outputs": [],
   "source": [
    "# Save a dictionary into a pickle file. For illustration purposes, a simple object was chosen.\n",
    "import pickle\n",
    "\n",
    "galaxies = {\"Andromeda Galaxy\": \"NGC 224\", \"Messier 32\": \"NGC 221\", \"Sculptor Galaxy\": \"NGC 253\",\n",
    "            \"Small Magellanic Cloud\": \"NGC 292\"}\n",
    "\n",
    "pickle.dump(galaxies, open( \"galaxies.pickle\", \"wb\" ) )"
   ]
  },
  {
   "cell_type": "code",
   "execution_count": 28,
   "metadata": {},
   "outputs": [
    {
     "name": "stdout",
     "output_type": "stream",
     "text": [
      "{'Andromeda Galaxy': 'NGC 224', 'Messier 32': 'NGC 221', 'Sculptor Galaxy': 'NGC 253', 'Small Magellanic Cloud': 'NGC 292'}\n"
     ]
    }
   ],
   "source": [
    "# Load the dictionary back from the pickle file.\n",
    "import pickle\n",
    " \n",
    "galaxies = pickle.load( open( \"galaxies.pickle\", \"rb\" ) )\n",
    "\n",
    "print(galaxies)"
   ]
  },
  {
   "cell_type": "markdown",
   "metadata": {},
   "source": [
    "*Some comments on using `pickle`:*\n",
    "\n",
    "* *Be cautious with pickle files from unknown/ not trustworthy sources.*\n",
    "Pickle files can contain code. This includes potential malicious code that would run once to de-pickle it.\n",
    "Only use pickle files you created on your own\n",
    "\n",
    "\n",
    "* *What can be pickled?*\n",
    "A general rule: you can pickle any object for which you can pickle every attribute. \n",
    "A complete list can be found here: https://docs.python.org/3/library/pickle.html#what-can-be-pickled-and-unpickled\n",
    "\n",
    "\n",
    "* *Don't use pickle to store results.*\n",
    "Serialized data can cause problems if you save a pickle, then update your code and read the pickle in. Attribute added to your __init__ may not be present in the unpickled object; also, if pickle can't find your class and module (e.g., if you renamed the module) you will get errors.\n",
    "For this reason, you should be wary of using pickles for long-term storage where the underlying code is not highly stable. It should only be used to speed up code by reading in data structures faster, which however should always be reproducible. I.e.: Your program starts with reading in an initial file, do some calculations on it before the \"real\" purpose of your program (e.g.: in the beginning, you read in a file containing a list of astronomical objects and you retrieve their coordinates). You can pickle it, and if for any reason the pickle is lost, you can always recreate it. The same is true with a trained classifier: You train a classifier, and before applying it (to a very large data set), you pickle it. You can always re-train your classifier if necessary."
   ]
  },
  {
   "cell_type": "markdown",
   "metadata": {},
   "source": [
    "## 5. Storing and reusing function calls - memoization <a class=\"anchor\" id=\"fifth-bullet\"></a>\n",
    "\n",
    "\n",
    "\n",
    "In computing, **memoization** or memoisation is an optimization technique used primarily to speed up computer programs by **storing the results of expensive function calls** and returning the cached result when the same inputs occur again. Although this is related to caching, memoization refers to a specific case of this optimization, distinguishing it from forms of caching such as buffering.\n",
    "\n",
    "One example: We might use memoization to cache the results of a function like that:\n",
    "\n"
   ]
  },
  {
   "cell_type": "code",
   "execution_count": null,
   "metadata": {},
   "outputs": [],
   "source": [
    "\n",
    "def _download_and_preprocess_neighbors(\n",
    "    corrected_lc: LightCurve,\n",
    "    radius: float = 6000.0,\n",
    "    min_targets: int = 30,\n",
    "    max_targets: int = 50,\n",
    "    interpolate: bool = False,\n",
    "    author: tuple = (\"Kepler\", \"K2\", \"SPOC\"),\n",
    "    flux_column: str = \"sap_flux\",\n",
    "):\n"
   ]
  },
  {
   "cell_type": "markdown",
   "metadata": {},
   "source": [
    "This is the function definition of a function that downloads and processes sources which are within a given radius around a source provided as input.\n",
    "\n",
    "When this function is called with input parameters it was called with before, the memoized result from the previous call (with the same parameters) should be reused."
   ]
  },
  {
   "cell_type": "markdown",
   "metadata": {},
   "source": [
    "**Example:** computing factorials using memoization in Python\n",
    "\n",
    "To memoize a function in Python, we can use a utility supplied in Python’s standard library: the `functools.lru_cache` decorator.\n",
    "We compute the Fibonacci sequence* and check the execution time:\n",
    "\n",
    "\n",
    "*The Fibonacci sequence is defined as the sequence of the Fibonacci numbers, wich can be defined by the\n",
    "recurrence relation\n",
    "$F_{0}=0, \\, F_{1}=1,$\n",
    "$F_{n}=F_{n-1}+F_{n-2}$\n",
    "for $n > 1$.\n",
    "This gives\n",
    "$0, 1, 1, 2, 3, 5, 8, 13, 21, 34, 55, 89, 144, ...$\n",
    "\n"
   ]
  },
  {
   "cell_type": "code",
   "execution_count": 47,
   "metadata": {},
   "outputs": [
    {
     "name": "stdout",
     "output_type": "stream",
     "text": [
      "Time taken to execute thefunction without memoization is 0.2650876045227051\n",
      "Time taken to execute the function with memoization is 0.0001499652862548828\n"
     ]
    }
   ],
   "source": [
    "import memoization\n",
    "from memoization import cached\n",
    "  \n",
    "# Function that computes Fibonacci \n",
    "# numbers without memoization\n",
    "def fib_without_cache(n):\n",
    "    if n < 2:\n",
    "        return n\n",
    "    return fib_without_cache(n-1) + fib_without_cache(n-2)\n",
    "      \n",
    "# Execution start time\n",
    "begin = time.time()\n",
    "fib_without_cache(30)\n",
    "  \n",
    "# Execution end time\n",
    "end = time.time()\n",
    "  \n",
    "print(\"Time taken to execute the function without memoization is\", end-begin)\n",
    "  \n",
    "# Function that computes Fibonacci\n",
    "# numbers with memoization\n",
    "@cached\n",
    "def fib_with_cache(n):\n",
    "    if n < 2:\n",
    "        return n\n",
    "    return fib_with_cache(n-1) + fib_with_cache(n-2)\n",
    "      \n",
    "begin = time.time()\n",
    "fib_with_cache(30)\n",
    "end = time.time()\n",
    "  \n",
    "print(\"Time taken to execute the function with memoization is\", end-begin)\n"
   ]
  },
  {
   "cell_type": "markdown",
   "metadata": {},
   "source": [
    "By default, memoization tries to combine all your function arguments and calculate its hash value using `hash()`. If it turns out that parts of your arguments are unhashable, memoization will fall back to turning them into a string using `str()`. This behavior relies on the assumption that the string exactly represents the internal state of the arguments, which is true for built-in types.\n",
    "\n",
    "However, this is not true for all objects. If you pass objects which are instances of non-built-in classes, sometimes you will need to override the default key-making procedure, because the `str()` function on these objects may not hold the correct information about their states.\n",
    "\n",
    "\n",
    "More on this can be found in the documentation:\n",
    "https://pypi.org/project/memoization/"
   ]
  },
  {
   "cell_type": "markdown",
   "metadata": {},
   "source": [
    "## 6. Parallelization <a class=\"anchor\" id=\"sixth-bullet\"></a>\n",
    "\n",
    "When processing large data sets, parallelization is usually possible and thus recommended. In most cases, such code runs on a large number of data independently from each other.\n",
    "e.g.: classifying objects by their light curves, calculating features for objects, estimating the distances..."
   ]
  },
  {
   "cell_type": "markdown",
   "metadata": {},
   "source": [
    "`multiprocessing` is a package that supports spawning processes using an API similar to the threading module. It runs on both Unix (including Mac) and Windows.\n",
    "\n",
    "More on this: https://docs.python.org/3/library/multiprocessing.html\n",
    "\n",
    "\n",
    "\n",
    "**Example:** a template to process multiple light curves in parallel"
   ]
  },
  {
   "cell_type": "code",
   "execution_count": 54,
   "metadata": {},
   "outputs": [
    {
     "name": "stdout",
     "output_type": "stream",
     "text": [
      "res lightcurve_1.lc\n",
      "res lightcurve_2.lc\n",
      "res lightcurve_3.lc\n"
     ]
    }
   ],
   "source": [
    "from multiprocessing import Pool\n",
    "\n",
    "# demo code for processing one light curve\n",
    "def one_lc(param):\n",
    "\n",
    "    i, filename = param\n",
    "    \n",
    "    # here goes the code processing something, i.e.: open the file, carry out computations on light curve data\n",
    "    \n",
    "    return filename\n",
    "\n",
    "\n",
    "\n",
    "\n",
    "\n",
    "pool = Pool(processes=9)\n",
    "\n",
    "#a list of light curve files\n",
    "filenames = ['lightcurve_1.lc','lightcurve_2.lc','lightcurve_3.lc']\n",
    "\n",
    "params = [(i, filename) for i, filename in enumerate(filenames)]\n",
    "\n",
    "it = pool.imap_unordered(one_lc, params)\n",
    "\n",
    "\n",
    "for i, res in enumerate(it):\n",
    "\n",
    "    print('res', res)\n",
    "\n",
    "\n",
    "pool.terminate()\n",
    "    \n",
    "    "
   ]
  },
  {
   "cell_type": "markdown",
   "metadata": {},
   "source": [
    "**Caution**: Some large **clusters/ supercomputers** prefer to have parallelization implemented in a different way. E.g.: Some clusters have *quotas* on the memory usage, CPU usage, and the runtime of your code within one thread/ process, so it can make sense to rather split up your code in multiple **jobs** instead of using Python's parallelization. When using a cluster/ supercomputer, you will find this in the system's documentation."
   ]
  },
  {
   "cell_type": "markdown",
   "metadata": {},
   "source": []
  },
  {
   "cell_type": "markdown",
   "metadata": {},
   "source": [
    "**Your tasks until next week:**\n",
    "\n",
    "Take a look at your classification results so far. You will find types of variable stars that can be classified well with the current approach, whereas others are hard to distinguish. Taking a look at the VSX catalog, and taking a look at the triangle plot (which shows the regions in the parameter space occupied by each type) will often give you a clue why certain types are hard to distinguish. (**Hint**: Reasons could be such as similar periods.)\n",
    "\n",
    "Based on what you have seen and done so far: Think about ways to improve the classification process.\n",
    "Our data set is an **imbalanced data set**, so you should modify your code accordingly for the 10-fold verification.\n",
    "\n",
    "Things you might think about, describe the concept for the project report (and only and if you have time, try to code it up):\n",
    "Using a (simple) form of classification pipeline, where classification is first done on a smaller set of features, and more features (especially computationally expensive ones) are calculated based on first classification results, will be helpful. Also, unsupervised clustering and a supervised approach such as the Random Forest classifier can be combined.\n",
    "\n",
    "**Hint:** You can always look up how others tried to solve similar problems. See e.g. my papers on classifying variable sources."
   ]
  },
  {
   "cell_type": "markdown",
   "metadata": {},
   "source": [
    "## Summary <a class=\"anchor\" id=\"fifth-bullet\"></a>\n",
    "\n",
    "At this point, all of you should have seen ways on how to improve the execution time of Python code.\n",
    "\n",
    "You might not need this in your project now, but it can be helpful later on (i.e.: when you're working on larger data sets, e.g. for your thesis project)."
   ]
  },
  {
   "cell_type": "code",
   "execution_count": null,
   "metadata": {},
   "outputs": [],
   "source": []
  }
 ],
 "metadata": {
  "anaconda-cloud": {},
  "kernelspec": {
   "display_name": "Python 3",
   "language": "python",
   "name": "python3"
  },
  "language_info": {
   "codemirror_mode": {
    "name": "ipython",
    "version": 3
   },
   "file_extension": ".py",
   "mimetype": "text/x-python",
   "name": "python",
   "nbconvert_exporter": "python",
   "pygments_lexer": "ipython3",
   "version": "3.8.10"
  }
 },
 "nbformat": 4,
 "nbformat_minor": 1
}
