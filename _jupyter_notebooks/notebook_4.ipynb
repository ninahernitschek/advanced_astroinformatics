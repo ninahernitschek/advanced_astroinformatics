{
 "cells": [
  {
   "cell_type": "markdown",
   "metadata": {
    "slideshow": {
     "slide_type": "slide"
    }
   },
   "source": [
    "# Discussing Results so far\n",
    "\n",
    "**Advanced Astroinformatics Student Project**\n",
    "\n",
    "*N. Hernitschek, 2022*\n",
    "\n",
    "\n",
    "\n",
    "---\n",
    "## Contents\n",
    "* [Recap, Questions](#first-bullet)\n",
    "* [Tasks for Today](#second-bullet)\n",
    "* [Summary](#fifth-bullet)\n"
   ]
  },
  {
   "cell_type": "markdown",
   "metadata": {},
   "source": [
    "## 1. Recap, Questions <a class=\"anchor\" id=\"first-bullet\"></a>\n",
    "\n",
    "Time for questions!\n",
    "\n",
    "Your **tasks until this week** were:\n",
    "\n",
    "\n",
    "Create a feature table showing the calculated features for all variable stars in the TESS sample (using the _TESS_lightcurves_outliercleaned light curves).\n",
    "\n",
    "Use this feature table to create a triangle plot showing the features first for all variable stars from one star type (e.g.: ACV). If this works, for each type create a triangle plot.\n",
    "Then, calculate the feature table also for the other versions of the light curves (_TESS_lightcurves_median_after_detrended, _TESS_lightcurves_raw). Overplot these features to each of your triangle plots. (I.e.: After this step you should have individual triangle plots for the types ACV, CEP, DCEP..., showing the calculated features for te raw, median/detrended, and outlier cleaned light curves.)\n",
    "\n",
    "What do these triangle plots tell you?"
   ]
  },
  {
   "cell_type": "markdown",
   "metadata": {},
   "source": [
    "Did you find certain patterns, regions... in the plots that correspond to what you have read about variable stars (https://www.aavso.org/vsx/index.php?view=about.vartypes)?"
   ]
  },
  {
   "cell_type": "markdown",
   "metadata": {},
   "source": [
    "If already done: Which distinctive differences do you recognize between plots done from the three different versions of the light curve (_TESS_lightcurves_outliercleaned, _TESS_lightcurves_median_after_detrended, _TESS_lightcurves_raw)?"
   ]
  },
  {
   "cell_type": "markdown",
   "metadata": {},
   "source": [
    "## 2. Tasks for Today <a class=\"anchor\" id=\"second-bullet\"></a>\n",
    "\n",
    "If not already done: Repeat the light curve plots, feature table and triangle plots for all the other versions of the light curves (_TESS_lightcurves_median_after_detrended, _TESS_lightcurves_raw).\n",
    "\n",
    "Otherwise: Take a look at https://scikit-learn.org/stable/tutorial/basic/tutorial.html and try to familiarize yourself with `scikit-learn`.\n",
    "\n",
    "We are doing (again) a coding and Q&A session today and continue next week with a detailed introduction to machine learning and `scikit-learn`."
   ]
  },
  {
   "cell_type": "code",
   "execution_count": null,
   "metadata": {},
   "outputs": [],
   "source": []
  },
  {
   "cell_type": "markdown",
   "metadata": {
    "slideshow": {
     "slide_type": "slide"
    }
   },
   "source": [
    "## Summary <a class=\"anchor\" id=\"fifth-bullet\"></a>\n",
    "\n",
    "At this point, all of you should have:\n",
    "* light curve plots that are meaningful: error bars, labels...\n",
    "* a feature table for the outlier-cleaned light curve\n",
    "* triangle plots that are meaningful: plot size/ number of types, colors, labels..."
   ]
  },
  {
   "cell_type": "code",
   "execution_count": null,
   "metadata": {},
   "outputs": [],
   "source": []
  }
 ],
 "metadata": {
  "anaconda-cloud": {},
  "kernelspec": {
   "display_name": "Python 3",
   "language": "python",
   "name": "python3"
  },
  "language_info": {
   "codemirror_mode": {
    "name": "ipython",
    "version": 3
   },
   "file_extension": ".py",
   "mimetype": "text/x-python",
   "name": "python",
   "nbconvert_exporter": "python",
   "pygments_lexer": "ipython3",
   "version": "3.8.10"
  }
 },
 "nbformat": 4,
 "nbformat_minor": 1
}
